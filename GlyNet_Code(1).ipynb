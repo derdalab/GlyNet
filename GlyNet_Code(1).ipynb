{
  "nbformat": 4,
  "nbformat_minor": 0,
  "metadata": {
    "colab": {
      "name": "GlyNet_main.ipynb",
      "provenance": [],
      "collapsed_sections": []
    },
    "kernelspec": {
      "name": "python3",
      "display_name": "Python 3"
    },
    "language_info": {
      "name": "python"
    }
  },
  "cells": [
    {
      "cell_type": "markdown",
      "metadata": {
        "id": "yNishejUY7U_"
      },
      "source": [
        "# **GlyNet**\n",
        "- a nerual network that accurately predicts interactions (relative binding strengths) between mammalian glycans and 352 glycan-binding proteins, many at multiple concentrations. \n",
        "\n",
        "- for each glycan input, the model will produce 1257 outputs, each representing the relative interaction strength between the input glycan and a particular protein sample.\n",
        "\n",
        "- see https://www.biorxiv.org/content/10.1101/2021.05.28.446094 "
      ]
    },
    {
      "cell_type": "markdown",
      "metadata": {
        "id": "0XTag0gtZDYS"
      },
      "source": [
        "# Load Libraries"
      ]
    },
    {
      "cell_type": "code",
      "metadata": {
        "id": "YVjverbSI8wB"
      },
      "source": [
        "# directory \n",
        "data_dir = '/content'  # likely '/contents' on Google Colab, 'Data' otherwise\n",
        "results_dir = 'Results' # output directory\n",
        "\n",
        "# load libraries\n",
        "import numpy as np\n",
        "import pandas as pd\n",
        "\n",
        "import torch\n",
        "import torch.nn as nn\n",
        "\n",
        "import math\n",
        "import random\n",
        "import time\n",
        "import os.path\n",
        "import sys\n",
        "import collections\n",
        "import re\n",
        "\n",
        "import matplotlib.pyplot as plt\n",
        "from matplotlib.backends.backend_pdf import PdfPages\n",
        "from matplotlib import rcParams\n",
        "\n",
        "from sklearn.metrics import r2_score\n",
        "from PIL import Image\n",
        "from skimage import io, img_as_float"
      ],
      "execution_count": 1,
      "outputs": []
    },
    {
      "cell_type": "markdown",
      "metadata": {
        "id": "-TQdC36XZrZK"
      },
      "source": [
        "# Initialize Learning Environment and Functions"
      ]
    },
    {
      "cell_type": "code",
      "metadata": {
        "id": "TJ0LulRQZ04o",
        "colab": {
          "base_uri": "https://localhost:8080/"
        },
        "outputId": "a087c8c3-f49d-4f07-8ddf-64d1b74c944b"
      },
      "source": [
        "torch.manual_seed(0) # Seed the PRNG from http://pytorch.org/docs/master/notes/randomness.html\n",
        "\n",
        "device = torch.device('cuda' if torch.cuda.is_available() else 'cpu')\n",
        "print('using:', device)"
      ],
      "execution_count": 2,
      "outputs": [
        {
          "output_type": "stream",
          "text": [
            "using: cpu\n"
          ],
          "name": "stdout"
        }
      ]
    },
    {
      "cell_type": "markdown",
      "metadata": {
        "id": "IYQobvk1fJ96"
      },
      "source": [
        "# **Train A New Neural Network**"
      ]
    },
    {
      "cell_type": "markdown",
      "metadata": {
        "id": "BXw5b3wgfhX_"
      },
      "source": [
        "*   This section will train a new model. \n",
        "*   A pre-trained model is also available (and is used later in the notebook), skip to the \"Load Trained GlyNet\" section to see use the trained model."
      ]
    },
    {
      "cell_type": "markdown",
      "metadata": {
        "id": "z3fvoxwta6Wq"
      },
      "source": [
        "## GlyNet - Architecture"
      ]
    },
    {
      "cell_type": "code",
      "metadata": {
        "id": "M6N0drBva7Fq"
      },
      "source": [
        "class GlyNet(nn.Module):\n",
        "    \"\"\"Set up the neural network.\n",
        "    in_dim: Number of input neurons.\n",
        "    out_dim: Number of output neurons.\n",
        "    n_hidden_layers: Number of hidden layers. Default: 1\n",
        "    n_neurons_per_hidden_layer: Number of neurons in each hidden layer. Default: 100\"\"\"\n",
        "    def __init__(self, in_dim, out_dim, n_hidden_layers = 1,\n",
        "                 n_neurons_per_hidden_layer = 100, **extra):\n",
        "        super(GlyNet, self).__init__()\n",
        "        self.settings = locals()        # record the local variables of interest\n",
        "        del self.settings['__class__'], self.settings['self'], self.settings['extra']\n",
        "        self.layers = nn.ModuleList()   # initialize the neural net structures\n",
        "        current_dim = in_dim\n",
        "        for i in range(n_hidden_layers):\n",
        "            self.layers.append(nn.Linear(current_dim, n_neurons_per_hidden_layer))\n",
        "            current_dim = n_neurons_per_hidden_layer\n",
        "        self.layers.append(nn.Linear(current_dim, out_dim))\n",
        "    def forward(self, x):\n",
        "        for layer in self.layers[:-1]:\n",
        "            x = torch.nn.functional.relu(layer(x))\n",
        "        return self.layers[-1](x)       # no ReLU on last layer - causes failures\n",
        "    def get_parameters(self):           # report the recorded parameters\n",
        "        return self.settings"
      ],
      "execution_count": 3,
      "outputs": []
    },
    {
      "cell_type": "markdown",
      "metadata": {
        "id": "54aP9MC5bAq7"
      },
      "source": [
        "## Data Preprocessing"
      ]
    },
    {
      "cell_type": "code",
      "metadata": {
        "id": "E9q3Sv7GbDh4"
      },
      "source": [
        "def get_data(n_datasets = None, dataset_offset = 0, permute_seed = None, **extras):\n",
        "    \"\"\"Load lists of glycans, their fingerprints and corresponding log RFU data.\n",
        "    Optionally, the columns of RFUs can be permuted and a subset sselected.\n",
        "    permute_seed: PRNG-seed used to reorder the RFU columns. None = identity permutation. Default: None\n",
        "    n_datasets: Number of the RFU output columns to select. None = all. Default: None\n",
        "    dataset_offset: Position of the first permuted RFU column to return. Default = 0\"\"\"\n",
        "\n",
        "    parameters = locals()   # log the function arguments\n",
        "    del parameters['extras']\n",
        "\n",
        "    # load the feature vectors (fingerprints) for the glycans\n",
        "    fingpr_data = pd.read_csv(os.path.join(data_dir, 'Fingerprints.tsv'),\n",
        "                              sep = '\\t', float_precision = 'round_trip')\n",
        "    glycans = fingpr_data['Glycan'].tolist()\n",
        "    fingprs = fingpr_data.drop('Glycan', axis = 1).values.tolist()\n",
        "    \n",
        "    # load pre-processed log RFU values\n",
        "    rfu_data = pd.read_csv(os.path.join(data_dir, 'Avg. RFU.tsv'),\n",
        "                           sep = '\\t', float_precision = 'round_trip')\n",
        "    \n",
        "    # do a reproducible permutation of the RFU data columns (protein samples)\n",
        "    # default (None) skips this - i.e. uses the identity permutation\n",
        "    perm = list(range(rfu_data.shape[1]))\n",
        "    if permute_seed != None:\n",
        "        prng = np.random.default_rng(seed = permute_seed)\n",
        "        prng.shuffle(perm)\n",
        "\n",
        "    # select RFU column samples (proteins) with n_datasets from dataset_offset\n",
        "    if n_datasets == None:  # if n_datasets is unset, make it all of them\n",
        "        n_datasets = rfu_data.shape[1] - dataset_offset\n",
        "        parameters['n_datasets'] = n_datasets  # return the actual value used\n",
        "    rfu_data = rfu_data.iloc[:, perm[dataset_offset:dataset_offset + n_datasets]]\n",
        "\n",
        "    # create a list of instances, each is a tuple of\n",
        "    # (label (glycan string), NN input features, target NN output RFUs)\n",
        "    data = list(zip(glycans, fingprs, rfu_data.values.tolist()))\n",
        "\n",
        "    # return the instance list, record of the parameters, and data dimensions\n",
        "    samples = rfu_data.columns.tolist()\n",
        "    in_dim = len(fingprs[0])\n",
        "    out_dim = len(rfu_data.columns)\n",
        "    return data, samples, in_dim, out_dim, parameters\n",
        "\n",
        "\n",
        "def k_fold_prng(data, parameters, n_folds = 10, fold_seed = None, **extra):\n",
        "    \"\"\"k-fold cross validation with random sampling.\n",
        "    data: List of instances to be divided into test and validation lists.\n",
        "    n_folds: Number of folds to partition into.  Default = 10.\n",
        "    fold_seed: Seed PNRG used to assign folds.  Disabled if None. Default: None\n",
        "    prarameters: Additional value, modified to return parameters used.\"\"\"\n",
        "\n",
        "    parameters.update(locals())  # record the arguments\n",
        "    del parameters['data'], parameters['parameters'], parameters['extra']\n",
        "\n",
        "    # use a unique PRNG just for this function\n",
        "    prng = np.random.default_rng(seed = fold_seed)\n",
        "\n",
        "    # assign each fingerprint to one of the subsets - randomized by shuffle\n",
        "    fingerprint = dict.fromkeys([tuple(x[1]) for x in data])\n",
        "    key_list = list(fingerprint.keys())\n",
        "    prng.shuffle(key_list)\n",
        "    for i, key in enumerate(key_list):\n",
        "        fingerprint[key] = i % n_folds\n",
        "    \n",
        "    # data is assigned a fold based on its fingerprint's random label\n",
        "    # ensures that validation data does not contain glycans used for learning\n",
        "    # final shuffle ensures a random ordering of the data in each fold\n",
        "    #prng.shuffle(data)   # newer numpy warns when shuffle applied to data\n",
        "    permutation = list(range(len(data)))\n",
        "    prng.shuffle(permutation)\n",
        "    data = [data[i] for i in permutation]\n",
        "\n",
        "    # iterate over the folds yielding lists of hold-out and keep-in data\n",
        "    for i in range(n_folds):\n",
        "        training_data = [x  for x in data  if fingerprint[tuple(x[1])] != i]\n",
        "        testing_data  = [x  for x in data  if fingerprint[tuple(x[1])] == i]\n",
        "        if n_folds == 1:     # if only 1 fold is requested training_data is empty\n",
        "            training_data = testing_data   # this causes error so provide all\n",
        "        yield i, testing_data, training_data\n",
        "\n",
        "\n",
        "def prepare_data(data, parameters, batch_size = 64, mode = 'train'):\n",
        "    \"\"\"Prepare inputs and desired outputs for training or testing.\n",
        "    data: List of instances.\n",
        "    batch_size: Training batch size. Default: 64\n",
        "    mode: Set to 'test' or 'train'. Default: 'train'.\"\"\"\n",
        "\n",
        "    fingpr_tensors, rfu_tensors = [], []\n",
        "    for glycan_name, fingpr, rfu in data:\n",
        "        fingpr_tensors.append(torch.tensor(fingpr).float().to(device))\n",
        "        rfu_tensors.append(torch.tensor(rfu).float().to(device))\n",
        "    if mode == 'train':\n",
        "        parameters['batch_size'] = batch_size  # only added if used\n",
        "        trainset = list(zip(fingpr_tensors, rfu_tensors))\n",
        "        return torch.utils.data.DataLoader(trainset, batch_size = batch_size)\n",
        "    elif mode == 'test':\n",
        "        fingpr_stack = torch.stack(fingpr_tensors).float().to(device)\n",
        "        rfu_stack = torch.stack(rfu_tensors).float().to(device)\n",
        "        return fingpr_stack, rfu_stack"
      ],
      "execution_count": 4,
      "outputs": []
    },
    {
      "cell_type": "markdown",
      "metadata": {
        "id": "08BVnAfzS8zD"
      },
      "source": [
        "## GlyNet - Training"
      ]
    },
    {
      "cell_type": "code",
      "metadata": {
        "id": "hAc4qpoGS2uo"
      },
      "source": [
        "def early_stop(losses, patience):\n",
        "    \"\"\"Return True if the loss hasn't improved for a number of epochs.\n",
        "    patience: Number of epochs without improvement.\"\"\"\n",
        "    if min(losses) < min(losses[-patience:]):\n",
        "        return True\n",
        "\n",
        "### def customLoss(output, target):\n",
        "###    # loss fucntion - returns MSE but no loss at negative target values\n",
        "###    delta = (output - target) * (target >= 0)\n",
        "###    return torch.mean(delta**2)\n",
        "\n",
        "def train(weight_decay = 1e-4, patience = 10, plot = False, **kwargs):\n",
        "    \"\"\"Train GlyNet using k-fold cross-validation on the CFG data.\n",
        "    weight_decay: Weight decay of the ADAM optimizer. Default: 1e-4.\n",
        "    patience: Number of epochs without improvement for early stopping. Default: 10.\n",
        "    plot: Produce a plot of the losses vs. epoch. Default: False\n",
        "    Additonal arguments are passed to subfunctions.\"\"\"\n",
        "\n",
        "    # track the parameters used (especially default ones)\n",
        "    parameters = locals()\n",
        "    del parameters['plot'], parameters['kwargs']\n",
        "\n",
        "    # load and initialize the data, neural network, etc.\n",
        "    data, samples, in_dim, out_dim, data_parameters = get_data(**kwargs)\n",
        "    parameters.update(data_parameters)\n",
        "    \n",
        "    net = GlyNet(in_dim, out_dim, **kwargs).to(device)\n",
        "    parameters.update(net.get_parameters())\n",
        "    \n",
        "    criterion = nn.MSELoss()\n",
        "    optimizer = torch.optim.Adam(net.parameters(), weight_decay = weight_decay)\n",
        "\n",
        "    # look over the k-folds    \n",
        "    glycans, actual, predicted, fold_num, monitor_data  = [], [], [], [], []\n",
        "    for i, held_out, kept_in in k_fold_prng(data, parameters, **kwargs):\n",
        "        start_time = time.time()\n",
        "        train_losses, test_losses = [], []\n",
        "        trainloader = prepare_data(kept_in, parameters, mode = 'train')\n",
        "        print('Fold', i + 1, 'Held Out')\n",
        "        for layers in net.children():\n",
        "            for layer in layers:\n",
        "                layer.reset_parameters()\n",
        "        # now run the training cycles\n",
        "        for epoch in range(1000):\n",
        "            # run one step of learning\n",
        "            batch_loss = 0.0\n",
        "            for inputs, values in trainloader:\n",
        "                optimizer.zero_grad()\n",
        "                outputs = net(inputs)\n",
        "                loss = criterion(outputs, values)\n",
        "                loss.backward()\n",
        "                optimizer.step()\n",
        "                batch_size, _ = values.size()\n",
        "                batch_loss += loss.item() * batch_size\n",
        "            train_loss = batch_loss / len(kept_in)\n",
        "            train_losses.append(train_loss)\n",
        "            \n",
        "            # test the quality of this step\n",
        "            test_inputs, test_values = prepare_data(held_out, parameters, mode='test')\n",
        "            with torch.no_grad():\n",
        "                test_outputs = net(test_inputs)\n",
        "                test_loss = criterion(test_outputs, test_values)\n",
        "            test_losses.append(test_loss.item())\n",
        "            if early_stop(test_losses, patience):\n",
        "                break\n",
        "\n",
        "        # post training - note the time and performance on the hold out material\n",
        "        elapsed_time = time.time() - start_time\n",
        "        glycans += [name for name, fingprint, rfu in held_out]\n",
        "        actual  += [rfu  for name, fingprint, rfu in held_out]\n",
        "        predicted += test_outputs.tolist()\n",
        "        fold_num += [i for x in held_out]\n",
        "        monitor_data.append([elapsed_time, epoch, train_loss, test_loss.item()])\n",
        "        torch.save(net.state_dict(), 'trained_model-{}.pt'.format(i))\n",
        "        print('Train Loss:', round(train_loss, 4))\n",
        "        print('Test Loss:', round(test_loss.item(), 4))\n",
        "        if plot:\n",
        "            plot_performance(train_losses, test_losses)\n",
        "            \n",
        "    print('GlyNet Cross-Validation Complete')\n",
        "\n",
        "    act_data  = pd.DataFrame(actual,    index = glycans, columns = samples)\n",
        "    pred_data = pd.DataFrame(predicted, index = glycans, columns = samples)\n",
        "    fold_data = pd.DataFrame(fold_num,  index = glycans)\n",
        "    monitor_data = pd.DataFrame(monitor_data, columns = ['Training Time',\n",
        "                                        'Epochs', 'Training Loss', 'Test Loss'])\n",
        "    monitor_data = monitor_data.reset_index().rename(columns = {'index':'Fold'})\n",
        "    \n",
        "    return act_data, pred_data, fold_data, monitor_data, parameters\n",
        "\n",
        "def plot_performance(train_losses, test_losses):\n",
        "    \"\"\"Utility function to produce plots of training and test loss by epoch.\"\"\"\n",
        "    plt.plot(train_losses, label='Train Loss')\n",
        "    plt.plot(test_losses, label='Test Loss')\n",
        "    plt.xlabel('Epoch')\n",
        "    plt.ylabel('Loss')\n",
        "    plt.grid(alpha=0.2)\n",
        "    plt.legend()\n",
        "    plt.show()\n",
        "\n",
        "def run_learning_and_save(results_dir, plot = False, **parameters_in):\n",
        "    \"\"\"A driver function to call train() and save the results to a file.\n",
        "    results_dir: directory to save the output file in\n",
        "    other parameters are passed to the train() function\n",
        "    If the output file already exists training is skipped. Useful for resuming interrupted runs.\"\"\"\n",
        "    # build a filename from the non-default parameters\n",
        "    description =  ' '.join(['{}={}'.format(k, v)   for k, v in parameters_in.items()])\n",
        "    file_name = os.path.join(results_dir, 'GlyNet {}.npz'.format(description))\n",
        "    print('Results Filename: {}'.format(file_name))\n",
        "\n",
        "    if not os.path.exists(file_name):\n",
        "        act_data, pred_data, fold_data, monitor_data, parameters_out = train(\n",
        "                                                   plot = plot, **parameters_in)\n",
        "        # report on the parameter lists\n",
        "        print('Parameter Lists (In) :', parameters_in)\n",
        "        print('Parameter Lists (Out):', parameters_out)\n",
        "        unknowns = [k  for k in parameters_in.keys()  if k not in parameters_out]\n",
        "        if len(unknowns) > 0:\n",
        "            sys.stderr.write('Warning: Unused parameter(s) {}\\n'.format(unknowns))\n",
        "\n",
        "        #sample_stats_table = get_per_sample_stats(act_data, pred_data)\n",
        "        #glycan_stats_table = get_per_sample_stats(act_data.T, pred_data.T)\n",
        "\n",
        "        # save outputs to one file - can be reloaded with np.load()\n",
        "        os.makedirs(results_dir, exist_ok = True)\n",
        "        with open(file_name, 'wb') as data_file:\n",
        "            np.savez_compressed(data_file,\n",
        "                # use format that does not require pickle() to load\n",
        "                parameters = np.array([(k, str(v))\n",
        "                                            for k, v in parameters_out.items()]),\n",
        "                index = list(pred_data.index),\n",
        "                columns = list(pred_data.columns),\n",
        "                act_data = act_data.values,\n",
        "                pred_data = pred_data.values,\n",
        "                fold_data = fold_data.values,\n",
        "                monitor_columns = list(monitor_data.columns),\n",
        "                monitor_data = monitor_data.values,\n",
        "                #statistics_columns = list(sample_stats_table.columns),\n",
        "                #sample_statistics = sample_stats_table.values,\n",
        "                #glycan_statistics = glycan_stats_table.values\n",
        "                )\n",
        "        return act_data, pred_data, fold_data, monitor_data, parameters_out\n",
        "\n",
        "# function to load the file written by the above\n",
        "def load_learned_run(filename):\n",
        "    with np.load(filename, allow_pickle = False) as the_file:\n",
        "        parameters   = the_file['parameters']\n",
        "        idx          = the_file['index']           # list of glycans\n",
        "        cols         = the_file['columns']         # list of dataset IDs\n",
        "        act_data     = pd.DataFrame(the_file['act_data'],  index = idx, columns = cols)\n",
        "        pred_data    = pd.DataFrame(the_file['pred_data'], index = idx, columns = cols)\n",
        "        fold_data    = pd.DataFrame(the_file['fold_data'], index = idx)\n",
        "        monitor_cols = the_file['monitor_columns']\n",
        "        monitor_data = pd.DataFrame(the_file['monitor_data'], columns = monitor_cols)\n",
        "        #stats_cols   = the_file['statistics_columns']\n",
        "        #sample_stats = pd.DataFrame(the_file['sample_statistics'],\n",
        "        #\t\t\t\tindex = cols, columns = stats_cols)\n",
        "        #glycan_stats = pd.DataFrame(the_file['glycan_statistics'],\n",
        "        #\t\t\t\tindex = idx, columns = stats_cols)\n",
        "    return (act_data, pred_data, fold_data, monitor_data, parameters)\n",
        "\n",
        "\n",
        "def get_per_sample_stats(act_data, pred_data, threshold = None):\n",
        "    \"\"\"Makes a dataframe with statistics comparing a set of predictions with the\n",
        "    ground truth values.\n",
        "    act_data: data frame with the actual (ground truth) values\n",
        "    pred_data: data frame with the predicted values\n",
        "    threshold: Only consider glycans with a actual number above this value.  Use None for no filtering. Default=None.\"\"\"\n",
        "    mse_list, r2_list, count_list = [], [], []\n",
        "    for sample in act_data.columns:\n",
        "        compare_df = pd.DataFrame({'act' : act_data[sample].values,\n",
        "                                   'pred' : pred_data[sample].values})\n",
        "        \n",
        "        # only consider glycans when the actual value is above the threshold\n",
        "        if threshold != None:  # filter out values when actual is not above threshold\n",
        "            compare_df = compare_df[compare_df['act'] >= thres]\n",
        "\n",
        "        # record the MSE and R-squared statistics \n",
        "        if (len(compare_df['act']) > 0):\n",
        "            mse_list.append(np.mean((compare_df['act'] - compare_df['pred'])**2))      \n",
        "            r2_list.append(r2_score(compare_df['act'], compare_df['pred']))\n",
        "        else:\n",
        "            mse_list.append(np.nan)      \n",
        "            r2_list.append(np.nan)\n",
        "        count_list.append(len(compare_df['act'])) # record the number of glycans\n",
        "   \n",
        "    # organize the results into data frame and return in\n",
        "    results = pd.DataFrame({'Sample': act_data.columns, 'MSE': mse_list,\n",
        "                            'R-Squared': r2_list, 'n': count_list})\n",
        "    results = results.set_index('Sample')\n",
        "    results['MSE+(1-R2)'] = results['MSE'] - results['R-Squared'] + 1\n",
        "    return results"
      ],
      "execution_count": 25,
      "outputs": []
    },
    {
      "cell_type": "code",
      "metadata": {
        "colab": {
          "base_uri": "https://localhost:8080/",
          "height": 1000
        },
        "id": "bkeD_OQqY-JB",
        "outputId": "8fa4def9-a2b6-4107-b227-ccace4bd6dd0"
      },
      "source": [
        "(act_data, pred_data, fold_data, monitor_data,\n",
        "     parameters_out) = run_learning_and_save(results_dir = results_dir, plot = True)\n"
      ],
      "execution_count": 16,
      "outputs": [
        {
          "output_type": "stream",
          "text": [
            "Results Filename: Results/GlyNet .npz\n",
            "Fold 1 Held Out\n",
            "Train Loss: 0.0817\n",
            "Test Loss: 0.119\n"
          ],
          "name": "stdout"
        },
        {
          "output_type": "display_data",
          "data": {
            "image/png": "[encoded data removed]",
            "text/plain": [
              "<Figure size 432x288 with 1 Axes>"
            ]
          },
          "metadata": {
            "tags": [],
            "needs_background": "light"
          }
        },
        {
          "output_type": "stream",
          "text": [
            "Fold 2 Held Out\n",
            "Train Loss: 0.0809\n",
            "Test Loss: 0.1255\n"
          ],
          "name": "stdout"
        },
        {
          "output_type": "display_data",
          "data": {
            "image/png": "[encoded data removed]",
            "text/plain": [
              "<Figure size 432x288 with 1 Axes>"
            ]
          },
          "metadata": {
            "tags": [],
            "needs_background": "light"
          }
        },
        {
          "output_type": "stream",
          "text": [
            "Fold 3 Held Out\n",
            "Train Loss: 0.0786\n",
            "Test Loss: 0.1207\n"
          ],
          "name": "stdout"
        },
        {
          "output_type": "display_data",
          "data": {
            "image/png": "[encoded data removed]",
            "text/plain": [
              "<Figure size 432x288 with 1 Axes>"
            ]
          },
          "metadata": {
            "tags": [],
            "needs_background": "light"
          }
        },
        {
          "output_type": "stream",
          "text": [
            "Fold 4 Held Out\n",
            "Train Loss: 0.0794\n",
            "Test Loss: 0.1295\n"
          ],
          "name": "stdout"
        },
        {
          "output_type": "display_data",
          "data": {
            "image/png": "[encoded data removed]",
            "text/plain": [
              "<Figure size 432x288 with 1 Axes>"
            ]
          },
          "metadata": {
            "tags": [],
            "needs_background": "light"
          }
        },
        {
          "output_type": "stream",
          "text": [
            "Fold 5 Held Out\n",
            "Train Loss: 0.0787\n",
            "Test Loss: 0.1157\n"
          ],
          "name": "stdout"
        },
        {
          "output_type": "display_data",
          "data": {
            "image/png": "[encoded data removed]",
            "text/plain": [
              "<Figure size 432x288 with 1 Axes>"
            ]
          },
          "metadata": {
            "tags": [],
            "needs_background": "light"
          }
        },
        {
          "output_type": "stream",
          "text": [
            "Fold 6 Held Out\n",
            "Train Loss: 0.079\n",
            "Test Loss: 0.1287\n"
          ],
          "name": "stdout"
        },
        {
          "output_type": "display_data",
          "data": {
            "image/png": "[encoded data removed]",
            "text/plain": [
              "<Figure size 432x288 with 1 Axes>"
            ]
          },
          "metadata": {
            "tags": [],
            "needs_background": "light"
          }
        },
        {
          "output_type": "stream",
          "text": [
            "Fold 7 Held Out\n",
            "Train Loss: 0.0792\n",
            "Test Loss: 0.1163\n"
          ],
          "name": "stdout"
        },
        {
          "output_type": "display_data",
          "data": {
            "image/png": "[encoded data removed]",
            "text/plain": [
              "<Figure size 432x288 with 1 Axes>"
            ]
          },
          "metadata": {
            "tags": [],
            "needs_background": "light"
          }
        },
        {
          "output_type": "stream",
          "text": [
            "Fold 8 Held Out\n",
            "Train Loss: 0.081\n",
            "Test Loss: 0.1109\n"
          ],
          "name": "stdout"
        },
        {
          "output_type": "display_data",
          "data": {
            "image/png": "[encoded data removed]",
            "text/plain": [
              "<Figure size 432x288 with 1 Axes>"
            ]
          },
          "metadata": {
            "tags": [],
            "needs_background": "light"
          }
        },
        {
          "output_type": "stream",
          "text": [
            "Fold 9 Held Out\n",
            "Train Loss: 0.0803\n",
            "Test Loss: 0.1154\n"
          ],
          "name": "stdout"
        },
        {
          "output_type": "display_data",
          "data": {
            "image/png": "[encoded data removed]",
            "text/plain": [
              "<Figure size 432x288 with 1 Axes>"
            ]
          },
          "metadata": {
            "tags": [],
            "needs_background": "light"
          }
        },
        {
          "output_type": "stream",
          "text": [
            "Fold 10 Held Out\n",
            "Train Loss: 0.0795\n",
            "Test Loss: 0.122\n"
          ],
          "name": "stdout"
        },
        {
          "output_type": "display_data",
          "data": {
            "image/png": "[encoded data removed]",
            "text/plain": [
              "<Figure size 432x288 with 1 Axes>"
            ]
          },
          "metadata": {
            "tags": [],
            "needs_background": "light"
          }
        },
        {
          "output_type": "stream",
          "text": [
            "GlyNet Cross-Validation Complete\n",
            "Parameter Lists (In) : {}\n",
            "Parameter Lists (Out): {'weight_decay': 0.0001, 'patience': 10, 'n_datasets': 1257, 'dataset_offset': 0, 'permute_seed': None, 'in_dim': 272, 'out_dim': 1257, 'n_hidden_layers': 1, 'n_neurons_per_hidden_layer': 100, 'n_folds': 10, 'fold_seed': None, 'batch_size': 64}\n"
          ],
          "name": "stdout"
        }
      ]
    },
    {
      "cell_type": "code",
      "metadata": {
        "id": "PN_0OiJdei-g"
      },
      "source": [
        "# the code here takes a while to run\n",
        "\n",
        "# sweep across hidden_nodes and n_hidden_layers\n",
        "run_learning_and_save(results_dir, n_hidden_layers = 0, fold_seed = 0)\n",
        "size_list = [int(float('{:0.2g}'.format(np.floor(25 * 2 ** (x/2)))))\n",
        "             for x in range(12)] #  a real hack - but the numbers are nice\n",
        "node_list = [(l, n)  for l in range(4)  for n in size_list]\n",
        "for fold_seed, (n_hidden_layers, n_neurons_per_hidden_layer) in enumerate(node_list):\n",
        "    run_learning_and_save(results_dir, n_hidden_layers = n_hidden_layers, \n",
        "                          n_neurons_per_hidden_layer = n_neurons_per_hidden_layer,\n",
        "                          fold_seed = fold_seed)\n",
        "\n",
        "# sweep across weight_decay and n_hidden_layers\n",
        "decay_list = [(l, float('{}e{}'.format(m, e)))  for l in [1, 2, 3]\n",
        "                                                for e in [-6, -5, -4, -3, -2, -1]\n",
        "                                                for m in [1, 2, 5]]\n",
        "for fold_seed, (n_hidden_layers, weight_decay) in enumerate(decay_list):\n",
        "    run_learning_and_save(results_dir, n_hidden_layers = n_hidden_layers,\n",
        "                          weight_decay = weight_decay, fold_seed = fold_seed)\n",
        "\n",
        "# explore subsets of the data at different granularities\n",
        "factors = [1, 2, 3, 4, 6, 8, 10, 15, 20, 30, 40, 60, 80, 100, 150,\n",
        "           200, 300, 400, 600, 1200] # omit 5 12 16 24 25 48 50 75 120 240\n",
        "for n_datasets in factors:\n",
        "    for offset in range(1200 // n_datasets):\n",
        "        run_learning_and_save(results_dir, n_datasets = n_datasets,\n",
        "                       permute_seed = 1, data_offset = offset * n_datasets)"
      ],
      "execution_count": null,
      "outputs": []
    },
    {
      "cell_type": "markdown",
      "metadata": {
        "id": "MrMES8wKTLa5"
      },
      "source": [
        "## Results"
      ]
    },
    {
      "cell_type": "markdown",
      "metadata": {
        "id": "Iz5zT8ujYVyl"
      },
      "source": [
        "### Get Analysis of Results"
      ]
    },
    {
      "cell_type": "code",
      "metadata": {
        "id": "ZWoJ3W-CTNQ7"
      },
      "source": [
        "def get_predictable(results, cutoff=0.5):\n",
        "    \"\"\"Get the samples with the highest performace during cross-validation.\n",
        "    results: output from get_per_sample_stats(), which contains information about the MSE, R2, and MSE+(1-R2).\n",
        "    cutoff: use samples below the cutoff MSE+(1-R2). Default: 0.5\"\"\"\n",
        "    info_data = pd.read_csv(os.path.join(data_dir, 'Glycan_Information.tsv'),\n",
        "                            sep = '\\t', float_precision = 'round_trip')\n",
        "    results['cbpId'] = info_data['cbpId']\n",
        "    results = results[results['MSE+(1-R2)'] < cutoff]\n",
        "    cbp_dict = {}\n",
        "    for cbpId in results['cbpId']:\n",
        "        cbp_data = results[results['cbpId'] == cbpId]\n",
        "        cbp_data = cbp_data.sort_values('MSE+(1-R2)')\n",
        "        cbp_dict[cbpId] = cbp_data['Sample'].tolist()\n",
        "    return cbp_dict"
      ],
      "execution_count": 18,
      "outputs": []
    },
    {
      "cell_type": "code",
      "metadata": {
        "id": "7l-Bf8zRcv6q",
        "colab": {
          "base_uri": "https://localhost:8080/"
        },
        "outputId": "db56ed80-9f76-4a86-ea25-46caa26d7622"
      },
      "source": [
        "results = get_per_sample_stats(act_data, pred_data)\n",
        "print('Average MSE:', round(results['MSE'].mean(), 4))\n",
        "print('Average R-Squared:', round(results['R-Squared'].mean(), 4))"
      ],
      "execution_count": 19,
      "outputs": [
        {
          "output_type": "stream",
          "text": [
            "Average MSE: 0.1203\n",
            "Average R-Squared: 0.3607\n"
          ],
          "name": "stdout"
        }
      ]
    },
    {
      "cell_type": "code",
      "metadata": {
        "id": "uDuGGU45dlQU",
        "colab": {
          "base_uri": "https://localhost:8080/",
          "height": 508
        },
        "outputId": "0c28ad9b-855f-4906-e246-7e77b2caadcb"
      },
      "source": [
        "predictable = get_predictable(results, cutoff=0.4)\n",
        "print(len(predictable), 'Unique CBPs Ready for Prediction:', '\\n')\n",
        "for cbp in predictable:\n",
        "    samples = predictable[cbp]\n",
        "    print(*sorted(samples), sep=', ')"
      ],
      "execution_count": 20,
      "outputs": [
        {
          "output_type": "error",
          "ename": "FileNotFoundError",
          "evalue": "ignored",
          "traceback": [
            "\u001b[0;31m---------------------------------------------------------------------------\u001b[0m",
            "\u001b[0;31mFileNotFoundError\u001b[0m                         Traceback (most recent call last)",
            "\u001b[0;32m<ipython-input-20-8a40a19ca1f3>\u001b[0m in \u001b[0;36m<module>\u001b[0;34m()\u001b[0m\n\u001b[0;32m----> 1\u001b[0;31m \u001b[0mpredictable\u001b[0m \u001b[0;34m=\u001b[0m \u001b[0mget_predictable\u001b[0m\u001b[0;34m(\u001b[0m\u001b[0mresults\u001b[0m\u001b[0;34m,\u001b[0m \u001b[0mcutoff\u001b[0m\u001b[0;34m=\u001b[0m\u001b[0;36m0.4\u001b[0m\u001b[0;34m)\u001b[0m\u001b[0;34m\u001b[0m\u001b[0;34m\u001b[0m\u001b[0m\n\u001b[0m\u001b[1;32m      2\u001b[0m \u001b[0mprint\u001b[0m\u001b[0;34m(\u001b[0m\u001b[0mlen\u001b[0m\u001b[0;34m(\u001b[0m\u001b[0mpredictable\u001b[0m\u001b[0;34m)\u001b[0m\u001b[0;34m,\u001b[0m \u001b[0;34m'Unique CBPs Ready for Prediction:'\u001b[0m\u001b[0;34m,\u001b[0m \u001b[0;34m'\\n'\u001b[0m\u001b[0;34m)\u001b[0m\u001b[0;34m\u001b[0m\u001b[0;34m\u001b[0m\u001b[0m\n\u001b[1;32m      3\u001b[0m \u001b[0;32mfor\u001b[0m \u001b[0mcbp\u001b[0m \u001b[0;32min\u001b[0m \u001b[0mpredictable\u001b[0m\u001b[0;34m:\u001b[0m\u001b[0;34m\u001b[0m\u001b[0;34m\u001b[0m\u001b[0m\n\u001b[1;32m      4\u001b[0m     \u001b[0msamples\u001b[0m \u001b[0;34m=\u001b[0m \u001b[0mpredictable\u001b[0m\u001b[0;34m[\u001b[0m\u001b[0mcbp\u001b[0m\u001b[0;34m]\u001b[0m\u001b[0;34m\u001b[0m\u001b[0;34m\u001b[0m\u001b[0m\n\u001b[1;32m      5\u001b[0m     \u001b[0mprint\u001b[0m\u001b[0;34m(\u001b[0m\u001b[0;34m*\u001b[0m\u001b[0msorted\u001b[0m\u001b[0;34m(\u001b[0m\u001b[0msamples\u001b[0m\u001b[0;34m)\u001b[0m\u001b[0;34m,\u001b[0m \u001b[0msep\u001b[0m\u001b[0;34m=\u001b[0m\u001b[0;34m', '\u001b[0m\u001b[0;34m)\u001b[0m\u001b[0;34m\u001b[0m\u001b[0;34m\u001b[0m\u001b[0m\n",
            "\u001b[0;32m<ipython-input-18-78e05c69b277>\u001b[0m in \u001b[0;36mget_predictable\u001b[0;34m(results, cutoff)\u001b[0m\n\u001b[1;32m      4\u001b[0m     cutoff: use samples below the cutoff MSE+(1-R2). Default: 0.5\"\"\"\n\u001b[1;32m      5\u001b[0m     info_data = pd.read_csv(os.path.join(data_dir, 'Glycan_Information.tsv'),\n\u001b[0;32m----> 6\u001b[0;31m                             sep = '\\t', float_precision = 'round_trip')\n\u001b[0m\u001b[1;32m      7\u001b[0m     \u001b[0mresults\u001b[0m\u001b[0;34m[\u001b[0m\u001b[0;34m'cbpId'\u001b[0m\u001b[0;34m]\u001b[0m \u001b[0;34m=\u001b[0m \u001b[0minfo_data\u001b[0m\u001b[0;34m[\u001b[0m\u001b[0;34m'cbpId'\u001b[0m\u001b[0;34m]\u001b[0m\u001b[0;34m\u001b[0m\u001b[0;34m\u001b[0m\u001b[0m\n\u001b[1;32m      8\u001b[0m     \u001b[0mresults\u001b[0m \u001b[0;34m=\u001b[0m \u001b[0mresults\u001b[0m\u001b[0;34m[\u001b[0m\u001b[0mresults\u001b[0m\u001b[0;34m[\u001b[0m\u001b[0;34m'MSE+(1-R2)'\u001b[0m\u001b[0;34m]\u001b[0m \u001b[0;34m<\u001b[0m \u001b[0mcutoff\u001b[0m\u001b[0;34m]\u001b[0m\u001b[0;34m\u001b[0m\u001b[0;34m\u001b[0m\u001b[0m\n",
            "\u001b[0;32m/usr/local/lib/python3.7/dist-packages/pandas/io/parsers.py\u001b[0m in \u001b[0;36mread_csv\u001b[0;34m(filepath_or_buffer, sep, delimiter, header, names, index_col, usecols, squeeze, prefix, mangle_dupe_cols, dtype, engine, converters, true_values, false_values, skipinitialspace, skiprows, skipfooter, nrows, na_values, keep_default_na, na_filter, verbose, skip_blank_lines, parse_dates, infer_datetime_format, keep_date_col, date_parser, dayfirst, cache_dates, iterator, chunksize, compression, thousands, decimal, lineterminator, quotechar, quoting, doublequote, escapechar, comment, encoding, dialect, error_bad_lines, warn_bad_lines, delim_whitespace, low_memory, memory_map, float_precision)\u001b[0m\n\u001b[1;32m    686\u001b[0m     )\n\u001b[1;32m    687\u001b[0m \u001b[0;34m\u001b[0m\u001b[0m\n\u001b[0;32m--> 688\u001b[0;31m     \u001b[0;32mreturn\u001b[0m \u001b[0m_read\u001b[0m\u001b[0;34m(\u001b[0m\u001b[0mfilepath_or_buffer\u001b[0m\u001b[0;34m,\u001b[0m \u001b[0mkwds\u001b[0m\u001b[0;34m)\u001b[0m\u001b[0;34m\u001b[0m\u001b[0;34m\u001b[0m\u001b[0m\n\u001b[0m\u001b[1;32m    689\u001b[0m \u001b[0;34m\u001b[0m\u001b[0m\n\u001b[1;32m    690\u001b[0m \u001b[0;34m\u001b[0m\u001b[0m\n",
            "\u001b[0;32m/usr/local/lib/python3.7/dist-packages/pandas/io/parsers.py\u001b[0m in \u001b[0;36m_read\u001b[0;34m(filepath_or_buffer, kwds)\u001b[0m\n\u001b[1;32m    452\u001b[0m \u001b[0;34m\u001b[0m\u001b[0m\n\u001b[1;32m    453\u001b[0m     \u001b[0;31m# Create the parser.\u001b[0m\u001b[0;34m\u001b[0m\u001b[0;34m\u001b[0m\u001b[0;34m\u001b[0m\u001b[0m\n\u001b[0;32m--> 454\u001b[0;31m     \u001b[0mparser\u001b[0m \u001b[0;34m=\u001b[0m \u001b[0mTextFileReader\u001b[0m\u001b[0;34m(\u001b[0m\u001b[0mfp_or_buf\u001b[0m\u001b[0;34m,\u001b[0m \u001b[0;34m**\u001b[0m\u001b[0mkwds\u001b[0m\u001b[0;34m)\u001b[0m\u001b[0;34m\u001b[0m\u001b[0;34m\u001b[0m\u001b[0m\n\u001b[0m\u001b[1;32m    455\u001b[0m \u001b[0;34m\u001b[0m\u001b[0m\n\u001b[1;32m    456\u001b[0m     \u001b[0;32mif\u001b[0m \u001b[0mchunksize\u001b[0m \u001b[0;32mor\u001b[0m \u001b[0miterator\u001b[0m\u001b[0;34m:\u001b[0m\u001b[0;34m\u001b[0m\u001b[0;34m\u001b[0m\u001b[0m\n",
            "\u001b[0;32m/usr/local/lib/python3.7/dist-packages/pandas/io/parsers.py\u001b[0m in \u001b[0;36m__init__\u001b[0;34m(self, f, engine, **kwds)\u001b[0m\n\u001b[1;32m    946\u001b[0m             \u001b[0mself\u001b[0m\u001b[0;34m.\u001b[0m\u001b[0moptions\u001b[0m\u001b[0;34m[\u001b[0m\u001b[0;34m\"has_index_names\"\u001b[0m\u001b[0;34m]\u001b[0m \u001b[0;34m=\u001b[0m \u001b[0mkwds\u001b[0m\u001b[0;34m[\u001b[0m\u001b[0;34m\"has_index_names\"\u001b[0m\u001b[0;34m]\u001b[0m\u001b[0;34m\u001b[0m\u001b[0;34m\u001b[0m\u001b[0m\n\u001b[1;32m    947\u001b[0m \u001b[0;34m\u001b[0m\u001b[0m\n\u001b[0;32m--> 948\u001b[0;31m         \u001b[0mself\u001b[0m\u001b[0;34m.\u001b[0m\u001b[0m_make_engine\u001b[0m\u001b[0;34m(\u001b[0m\u001b[0mself\u001b[0m\u001b[0;34m.\u001b[0m\u001b[0mengine\u001b[0m\u001b[0;34m)\u001b[0m\u001b[0;34m\u001b[0m\u001b[0;34m\u001b[0m\u001b[0m\n\u001b[0m\u001b[1;32m    949\u001b[0m \u001b[0;34m\u001b[0m\u001b[0m\n\u001b[1;32m    950\u001b[0m     \u001b[0;32mdef\u001b[0m \u001b[0mclose\u001b[0m\u001b[0;34m(\u001b[0m\u001b[0mself\u001b[0m\u001b[0;34m)\u001b[0m\u001b[0;34m:\u001b[0m\u001b[0;34m\u001b[0m\u001b[0;34m\u001b[0m\u001b[0m\n",
            "\u001b[0;32m/usr/local/lib/python3.7/dist-packages/pandas/io/parsers.py\u001b[0m in \u001b[0;36m_make_engine\u001b[0;34m(self, engine)\u001b[0m\n\u001b[1;32m   1178\u001b[0m     \u001b[0;32mdef\u001b[0m \u001b[0m_make_engine\u001b[0m\u001b[0;34m(\u001b[0m\u001b[0mself\u001b[0m\u001b[0;34m,\u001b[0m \u001b[0mengine\u001b[0m\u001b[0;34m=\u001b[0m\u001b[0;34m\"c\"\u001b[0m\u001b[0;34m)\u001b[0m\u001b[0;34m:\u001b[0m\u001b[0;34m\u001b[0m\u001b[0;34m\u001b[0m\u001b[0m\n\u001b[1;32m   1179\u001b[0m         \u001b[0;32mif\u001b[0m \u001b[0mengine\u001b[0m \u001b[0;34m==\u001b[0m \u001b[0;34m\"c\"\u001b[0m\u001b[0;34m:\u001b[0m\u001b[0;34m\u001b[0m\u001b[0;34m\u001b[0m\u001b[0m\n\u001b[0;32m-> 1180\u001b[0;31m             \u001b[0mself\u001b[0m\u001b[0;34m.\u001b[0m\u001b[0m_engine\u001b[0m \u001b[0;34m=\u001b[0m \u001b[0mCParserWrapper\u001b[0m\u001b[0;34m(\u001b[0m\u001b[0mself\u001b[0m\u001b[0;34m.\u001b[0m\u001b[0mf\u001b[0m\u001b[0;34m,\u001b[0m \u001b[0;34m**\u001b[0m\u001b[0mself\u001b[0m\u001b[0;34m.\u001b[0m\u001b[0moptions\u001b[0m\u001b[0;34m)\u001b[0m\u001b[0;34m\u001b[0m\u001b[0;34m\u001b[0m\u001b[0m\n\u001b[0m\u001b[1;32m   1181\u001b[0m         \u001b[0;32melse\u001b[0m\u001b[0;34m:\u001b[0m\u001b[0;34m\u001b[0m\u001b[0;34m\u001b[0m\u001b[0m\n\u001b[1;32m   1182\u001b[0m             \u001b[0;32mif\u001b[0m \u001b[0mengine\u001b[0m \u001b[0;34m==\u001b[0m \u001b[0;34m\"python\"\u001b[0m\u001b[0;34m:\u001b[0m\u001b[0;34m\u001b[0m\u001b[0;34m\u001b[0m\u001b[0m\n",
            "\u001b[0;32m/usr/local/lib/python3.7/dist-packages/pandas/io/parsers.py\u001b[0m in \u001b[0;36m__init__\u001b[0;34m(self, src, **kwds)\u001b[0m\n\u001b[1;32m   2008\u001b[0m         \u001b[0mkwds\u001b[0m\u001b[0;34m[\u001b[0m\u001b[0;34m\"usecols\"\u001b[0m\u001b[0;34m]\u001b[0m \u001b[0;34m=\u001b[0m \u001b[0mself\u001b[0m\u001b[0;34m.\u001b[0m\u001b[0musecols\u001b[0m\u001b[0;34m\u001b[0m\u001b[0;34m\u001b[0m\u001b[0m\n\u001b[1;32m   2009\u001b[0m \u001b[0;34m\u001b[0m\u001b[0m\n\u001b[0;32m-> 2010\u001b[0;31m         \u001b[0mself\u001b[0m\u001b[0;34m.\u001b[0m\u001b[0m_reader\u001b[0m \u001b[0;34m=\u001b[0m \u001b[0mparsers\u001b[0m\u001b[0;34m.\u001b[0m\u001b[0mTextReader\u001b[0m\u001b[0;34m(\u001b[0m\u001b[0msrc\u001b[0m\u001b[0;34m,\u001b[0m \u001b[0;34m**\u001b[0m\u001b[0mkwds\u001b[0m\u001b[0;34m)\u001b[0m\u001b[0;34m\u001b[0m\u001b[0;34m\u001b[0m\u001b[0m\n\u001b[0m\u001b[1;32m   2011\u001b[0m         \u001b[0mself\u001b[0m\u001b[0;34m.\u001b[0m\u001b[0munnamed_cols\u001b[0m \u001b[0;34m=\u001b[0m \u001b[0mself\u001b[0m\u001b[0;34m.\u001b[0m\u001b[0m_reader\u001b[0m\u001b[0;34m.\u001b[0m\u001b[0munnamed_cols\u001b[0m\u001b[0;34m\u001b[0m\u001b[0;34m\u001b[0m\u001b[0m\n\u001b[1;32m   2012\u001b[0m \u001b[0;34m\u001b[0m\u001b[0m\n",
            "\u001b[0;32mpandas/_libs/parsers.pyx\u001b[0m in \u001b[0;36mpandas._libs.parsers.TextReader.__cinit__\u001b[0;34m()\u001b[0m\n",
            "\u001b[0;32mpandas/_libs/parsers.pyx\u001b[0m in \u001b[0;36mpandas._libs.parsers.TextReader._setup_parser_source\u001b[0;34m()\u001b[0m\n",
            "\u001b[0;31mFileNotFoundError\u001b[0m: [Errno 2] No such file or directory: '/content/Glycan_Information.tsv'"
          ]
        }
      ]
    },
    {
      "cell_type": "markdown",
      "metadata": {
        "id": "lyiRst62YXeL"
      },
      "source": [
        "### Visualize Results"
      ]
    },
    {
      "cell_type": "code",
      "metadata": {
        "id": "q_x0cULmYaQt"
      },
      "source": [
        "def plot_performance(train_losses, test_losses):\n",
        "    \"\"\"Plots training and test loss.\"\"\"\n",
        "    plt.plot(train_losses, label='Train Loss')\n",
        "    plt.plot(test_losses, label='Test Loss')\n",
        "    plt.xlabel('Epoch')\n",
        "    plt.ylabel('Loss')\n",
        "    plt.grid(alpha=0.2)\n",
        "    plt.legend()\n",
        "    plt.show()\n",
        "\n",
        "def get_error(sample):\n",
        "    \"\"\"Calculates the error.\"\"\"\n",
        "    error_df = pd.DataFrame()\n",
        "    rfu_data = pd.read_csv(os.path.join(data_dir, 'Mean_RFU_Values.tsv'),\n",
        "                           sep = \"\\t\").dropna()\n",
        "    rfu_data = rfu_data[sample]\n",
        "    rfu_pos = rfu_data.loc[rfu_data == rfu_data.min()].index\n",
        "    error = pd.read_csv(os.path.join(data_dir, 'RFU_Standard_Deviations.tsv'),\n",
        "                        sep = \"\\t\").dropna()\n",
        "    error = error[sample]\n",
        "    upper = rfu_data + error*2\n",
        "    lower = rfu_data - error*2\n",
        "    rfu_data = np.log10(rfu_data - rfu_data.min() + 1)\n",
        "    rfu_data[rfu_data < 1.50] = 1.50\n",
        "    rfu_15 = rfu_data.loc[rfu_data == 1.50].index\n",
        "    upper = np.log10(upper - upper[rfu_pos].values + 1)\n",
        "    lower = np.log10(lower - lower[rfu_pos].values + 1)\n",
        "    # reserve only the non 1.50 rows\n",
        "    rfu_data = rfu_data.drop(index=rfu_15)\n",
        "    upper = upper.drop(index=rfu_15)\n",
        "    lower = lower.drop(index=rfu_15)\n",
        "    error_df['actual'] = rfu_data\n",
        "    error_df['upper'] = upper\n",
        "    error_df['lower'] = lower\n",
        "    return error_df\n",
        "\n",
        "def plot_scatter(actual, predicted, sample, color, thres=None, filename=None):\n",
        "    \"\"\"Plot ground truth and predictions sorted by log RFU.\n",
        "    filename: Saves plot if a filename is given. Default: None\"\"\"\n",
        "    df = pd.DataFrame()\n",
        "    if thres == None:\n",
        "        df['actual'] = actual\n",
        "        df['predicted'] = predicted\n",
        "        df = df.sort_values('actual')\n",
        "        df = df.reset_index(drop=True)\n",
        "        diff = df['predicted'] - df['actual']\n",
        "        fig, (ax1, ax2) = plt.subplots(2, 1, figsize=(20, 6), sharex=True,\n",
        "            gridspec_kw={'hspace': 0, 'height_ratios': [4, 1]})\n",
        "        r2 = round(r2_score(actual, predicted), 4)\n",
        "        loss = round(np.mean((actual - predicted) ** 2), 4)\n",
        "        title = sample + ' MSE: ' + str(loss) + ' R-Squared: ' + str(r2)\n",
        "        ax1.set_title(title, fontweight='bold')\n",
        "        ax1.plot(df['actual'].values, label='Ground Truth', color='grey')\n",
        "        threshold = df['actual'][z_score(df['actual']) < 3.5].max()\n",
        "        if not threshold is np.nan:\n",
        "            binder = df['predicted'][df['actual'] > threshold]\n",
        "            nonbinder = df['predicted'][df['actual'] < threshold]\n",
        "            ax1.scatter(binder.index, binder.values,\n",
        "                        label='Prediction for Binder', color=color, alpha=0.8)\n",
        "            ax1.scatter(nonbinder.index, nonbinder.values,\n",
        "                        label='Prediction for Non-Binder', color=color, alpha=0.3)\n",
        "        else:\n",
        "            ax1.scatter(df['predicted'].index, df['predicted'].values,\n",
        "                        label='Predictions (No Threshold)', color=color, alpha=0.3)\n",
        "        ax1.set_ylabel('Log RFU')\n",
        "        ax1.set_ylim(0, 6)\n",
        "        ax1.grid(alpha=0.2)\n",
        "        ax1.legend()\n",
        "        ax2.bar(range(len(actual)), diff.values, color=color, alpha=0.8)\n",
        "\n",
        "    else:\n",
        "        df['actual'] = act_data[sample].values # sample is the name of the interested glycan\n",
        "        df['predicted'] = pred_data[sample].values\n",
        "        theshold = thres\n",
        "        error = get_error(sample)\n",
        "        # split the df into threshold and non-threshold\n",
        "        df_threshold = df.loc[df['actual'] == threshold]\n",
        "        df_nthreshold = df.loc[df['actual'] != threshold]\n",
        "        # first deal with the non-threshold\n",
        "        # df_threshold = df_threshold.sort_values('predicted') # sort according to predict because all actual == threshold\n",
        "        df_threshold = df_threshold.reset_index(drop = True) # reset the index to 0 (starting from 0)\n",
        "        diff_threshold = df_threshold['predicted'] - df_threshold['actual']\n",
        "        # now deal with the non-threshold\n",
        "        df_nthreshold = pd.merge(df_nthreshold, error, on = 'actual') # merge with the error to get ci\n",
        "        df_nthreshold = df_nthreshold.sort_values('actual') # sort according to the actual because it is avaible\n",
        "        df_nthreshold = df_nthreshold.reset_index(drop = True) # reset index, but starting after the df_threshold\n",
        "        df_nthreshold.index = df_nthreshold.index + len(df_threshold) + 1\n",
        "        diff_nthreshold = df_nthreshold['predicted'] - df_nthreshold['actual']\n",
        "        # error calculation\n",
        "        r2 = round(r2_score(act_data[sample].values, pred_data[sample].values), 4)\n",
        "        loss = round(np.mean((act_data[sample].values - pred_data[sample].values) ** 2), 4)\n",
        "        # start the plotting\n",
        "        title = sample + ' MSE: ' + str(loss) + ' R-Squared: ' + str(r2)\n",
        "        fig, (ax1, ax2) = plt.subplots(2, 1, figsize=(20, 6), sharex=True,\n",
        "          gridspec_kw={'hspace': 0, 'height_ratios': [4, 1]})\n",
        "        ax1.set_title(title, fontweight='bold')\n",
        "        threshold = cal_threshold(sample = sample) # get the threshold\n",
        "        # for only the non-threshold\n",
        "        act_p = df_nthreshold.loc[df_nthreshold['actual'] > threshold] # values less than the threshold\n",
        "        act_n = df_nthreshold.loc[df_nthreshold['actual'] <= threshold]\n",
        "        ax1.plot(act_p.index, act_p['actual'].values, label='Ground Truth (Positive Binder)', color='black')\n",
        "        ax1.plot(act_n.index, act_n['actual'].values, label='Ground Truth (Mid-Low Binder)', color='grey')\n",
        "        # now add in the threshold\n",
        "        ax1.plot(df_threshold.index, df_threshold['actual'].values, color='grey')\n",
        "        if not threshold is np.nan:\n",
        "            # for threshold value\n",
        "            binder_threshold = df_threshold['predicted'].loc[df_threshold['predicted'] > threshold]\n",
        "            nonbinder_threshold = df_threshold['predicted'].loc[df_threshold['predicted'] <= threshold]\n",
        "            ax1.scatter(binder_threshold.index, binder_threshold.values,\n",
        "                        label='Prediction for Binder', color='red', alpha=0.8)\n",
        "            ax1.scatter(nonbinder_threshold.index, nonbinder_threshold.values,\n",
        "                        label='Prediction for Non-Binder', color='blue', alpha=0.3)\n",
        "            # for non threshold value\n",
        "            binder_nthreshold = df_nthreshold['predicted'].loc[df_nthreshold['predicted'] > threshold]\n",
        "            nonbinder_nthreshold = df_nthreshold['predicted'].loc[df_nthreshold['predicted'] <= threshold]\n",
        "            ax1.scatter(binder_nthreshold.index, binder_nthreshold.values, color='red', alpha=0.8)\n",
        "            ax1.scatter(nonbinder_nthreshold.index, nonbinder_nthreshold.values, color='blue', alpha=0.3)\n",
        "            # plot error ci specifically for the non_threshold\n",
        "            ax1.fill_between(df_nthreshold.index, df_nthreshold['lower'], df_nthreshold['upper'], color='darkgrey', alpha=0.2)\n",
        "        else:\n",
        "            print('no threshold?')\n",
        "            exit()\n",
        "        ax1.set_ylabel('Log RFU')\n",
        "        ax1.set_ylim(0, 6)\n",
        "        ax1.grid(alpha=0.2)\n",
        "        ax1.legend()\n",
        "        ax2.bar(range(len(diff_threshold)), diff_threshold.values, color = color, alpha=0.8)\n",
        "        ax2.bar(range(len(diff_threshold), len(diff_threshold)+len(diff_nthreshold)), diff_nthreshold.values, color = color, alpha=0.8)\n",
        "    ax2.set_ylabel('Error')\n",
        "    ax2.set_ylim(-3, 3)\n",
        "    ax2.grid(alpha = 0.2)\n",
        "    plt.xlabel('Glycans')\n",
        "    plt.savefig(filename, bbox_inches='tight') if filename else plt.show()\n",
        "\n",
        "def z_score(values):\n",
        "    \"\"\"Z-Score from Mean Absolute Deviation.\"\"\"\n",
        "    diff = values - values.median()\n",
        "    mad = diff.abs().median()\n",
        "    return (0.6744898 * (diff)) / mad"
      ],
      "execution_count": null,
      "outputs": []
    },
    {
      "cell_type": "code",
      "metadata": {
        "id": "3qO_BKGddvuD"
      },
      "source": [
        "colors = ['cornflowerblue', 'mediumseagreen', 'crimson', 'gold', 'mediumpurple'] * 114\n",
        "for i, cbpId in enumerate(predictable):\n",
        "    for sample in predictable[cbpId]:\n",
        "        plot_scatter(act_data[sample].values, pred_data[sample].values, sample, colors[i])"
      ],
      "execution_count": null,
      "outputs": []
    },
    {
      "cell_type": "code",
      "metadata": {
        "id": "olW6X80xEzV_"
      },
      "source": [
        ""
      ],
      "execution_count": null,
      "outputs": []
    },
    {
      "cell_type": "markdown",
      "metadata": {
        "id": "FnO4pxuRgtYH"
      },
      "source": [
        "# **Load Trained GlyNet**"
      ]
    },
    {
      "cell_type": "markdown",
      "metadata": {
        "id": "w_-S3UrXiIcN"
      },
      "source": [
        "*   We will load and use an already trained model in this section and the rest of the notebook for consistency. If you are interested in training a new model, please refer to the \"Train A New GlyNet\" section. \n",
        "\n"
      ]
    },
    {
      "cell_type": "markdown",
      "metadata": {
        "id": "-S7t8KwhmEub"
      },
      "source": [
        "## GlyNet - Architecture"
      ]
    },
    {
      "cell_type": "code",
      "metadata": {
        "id": "gyTB5kXNgxqg"
      },
      "source": [
        "# Load the trained model\n",
        "def load_pretrained_net(filename):\n",
        "    \"\"\"Construct a neural network from a file with a saved pre-trained state.\"\"\"\n",
        "    net = GlyNet(in_dim = 272, out_dim = 1257, n_hidden_layers = 1,\n",
        "                 n_neurons_per_hidden_layer = 100).to(device)\n",
        "    net.load_state_dict(torch.load(filename))\n",
        "    return net\n",
        "\n",
        "def load_fingerprints():\n",
        "    \"\"\"Get glycan fingerprint table.\"\"\"\n",
        "    fingerprints = pd.read_csv(os.path.join(data_dir, 'Glycan_Feature_Counts.tsv'),\n",
        "                               sep = '\\t', float_precision = 'round_trip')\n",
        "    return fingerprints.drop('Glycan', axis = 1).values.tolist()\n",
        "\n",
        "def prepare_data(data):\n",
        "    \"\"\"Prepare stack of fingerprint tensors for testing.\"\"\"\n",
        "    fingerprint_tensors = []\n",
        "    for fingerprint in data:\n",
        "        fingerprint_tensors.append(torch.tensor(fingerprint).float().to(device))\n",
        "    return torch.stack(fingerprint_tensors).float().to(device)\n",
        "\n",
        "def run_glynet():\n",
        "    fingerprints = load_fingerprints()\n",
        "    inputs = prepare_data(fingerprints)\n",
        "    glynet = load_pretrained_net(os.path.join(data_dir, 'trained_model.pt'))\n",
        "\n",
        "    with torch.no_grad():\n",
        "        outputs = glynet(inputs)\n",
        "    print(outputs)\n",
        "    print('Size of output {}'.format(outputs.shape))\n",
        "\n",
        "    return (outputs)"
      ],
      "execution_count": null,
      "outputs": []
    },
    {
      "cell_type": "code",
      "metadata": {
        "id": "2vrBSKNzTbDh"
      },
      "source": [
        "finger = run_glynet()"
      ],
      "execution_count": null,
      "outputs": []
    },
    {
      "cell_type": "markdown",
      "metadata": {
        "id": "tiBRNyAqpmNC"
      },
      "source": [
        "# Plot - Visualizations"
      ]
    },
    {
      "cell_type": "markdown",
      "metadata": {
        "id": "xAztYkkypxZU"
      },
      "source": [
        "\n",
        "\n",
        "*   Data used in this section is available in the \"Data_for _Visualizations\" folders. \n",
        "these data are generated based on the above provided codes )\n",
        "\n",
        "  *   the prediction data \"Glycan_Validation_Prediction\" and \"Novel_Glycan_Extrapolation\" are generated using the above provided code\n",
        "\n",
        "\n",
        "\n",
        "*  The easiest way to access the Glycan structure images would be upload the corresponding folders: Validation_Glycan_Images and Novel_Glycan_Images.\n",
        "\n",
        "\n",
        "\n",
        "\n",
        "\n"
      ]
    },
    {
      "cell_type": "code",
      "metadata": {
        "id": "PcCNgw8u0L6R"
      },
      "source": [
        "# if using google drive\n",
        "from google.colab import drive\n",
        "drive.mount('/content/gdrive',force_remount = True)"
      ],
      "execution_count": null,
      "outputs": []
    },
    {
      "cell_type": "markdown",
      "metadata": {
        "id": "IHckovzau6jw"
      },
      "source": [
        "## Load Functions"
      ]
    },
    {
      "cell_type": "code",
      "metadata": {
        "id": "-Gk-DmXFzVS9"
      },
      "source": [
        "def crop_bg_validation(image_name):\n",
        "  if image_name == \"Neu5Ac(a2-3)Gal(b1-4)GlcNAc(b1-2)[Neu5Ac(a2-3)Gal(b1-4)GlcNAc(b1-3)Gal(b1-4)GlcNAc(b1-4)]Man(a1-3)[Neu5Ac(a2-3)Gal(b1-4)GlcNAc(b1-3)Gal(b1-4)GlcNAc(b1-2)[Neu5Ac(a2-3)Gal(b1-4)GlcNAc(b1-3)Gal(b1-4)GlcNAc(b1-6)]Man(a1-6)]Man(b1-4)GlcNAc(b1-4)[Fuc(a1-6)]GlcNAc\":\n",
        "    path = '/content/gdrive/MyDrive/Validation_Glycan_Images/rep_3355.jpg'\n",
        "  elif image_name == \"Neu5Ac(a2-3)Gal(b1-4)GlcNAc(b1-3)Gal(b1-4)GlcNAc(b1-2)[Neu5Ac(a2-3)Gal(b1-4)GlcNAc(b1-4)]Man(a1-3)[Neu5Ac(a2-3)Gal(b1-4)GlcNAc(b1-3)Gal(b1-4)GlcNAc(b1-2)[Neu5Ac(a2-3)Gal(b1-4)GlcNAc(b1-3)Gal(b1-4)GlcNAc(b1-6)]Man(a1-6)]Man(b1-4)GlcNAc(b1-4)[Fuc(a1-6)]GlcNAc\":\n",
        "    path = '/content/gdrive/MyDrive/Validation_Glycan_Images/rep_3465.jpg'\n",
        "  elif image_name == \"GlcNAc(b1-3)Gal(b1-4)GlcNAc(b1-3)Gal(b1-4)GlcNAc(b1-3)Gal(b1-4)GlcNAc(b1-3)Gal(b1-4)GlcNAc(b1-6)[GlcNAc(b1-3)Gal(b1-4)GlcNAc(b1-3)Gal(b1-4)GlcNAc(b1-3)Gal(b1-4)GlcNAc(b1-3)Gal(b1-4)GlcNAc(b1-2)]Man(a1-6)[GlcNAc(b1-3)Gal(b1-4)GlcNAc(b1-3)Gal(b1-4)GlcNAc(b1-3)Gal(b1-4)GlcNAc(b1-3)Gal(b1-4)GlcNAc(b1-2)Man(a1-3)]Man(b1-4)GlcNAc(b1-4)[Fuc(a1-6)]GlcNAc(b-Sp24\":\n",
        "    path = '/content/gdrive/MyDrive/Novel_Glycan_Images/rep_575.jpg'\n",
        "  elif image_name == \"Gal(b1-4)GlcNAc(b1-3)Gal(b1-4)GlcNAc(b1-3)Gal(b1-4)GlcNAc(b1-3)Gal(b1-4)GlcNAc(b1-3)Gal(b1-4)GlcNAc(b1-6)[Gal(b1-4)GlcNAc(b1-3)Gal(b1-4)GlcNAc(b1-3)Gal(b1-4)GlcNAc(b1-3)Gal(b1-4)GlcNAc(b1-3)Gal(b1-4)GlcNAc(b1-2)]Man(a1-6)[Gal(b1-4)GlcNAc(b1-3)Gal(b1-4)GlcNAc(b1-3)Gal(b1-4)GlcNAc(b1-3)Gal(b1-4)GlcNAc(b1-3)Gal(b1-4)GlcNAc(b1-2)Man(a1-3)]Man(b1-4)GlcNAc(b1-4)[Fuc(a1-6)]GlcNAc(b-Sp24\":\n",
        "    path = '/content/gdrive/MyDrive/Novel_Glycan_Images/rep_576.jpg'\n",
        "  elif image_name == \"Gal(b1-4)GlcNAc(b1-3)Gal(b1-4)GlcNAc(b1-3)Gal(b1-4)GlcNAc(b1-3)Gal(b1-4)GlcNAc(b1-3)Gal(b1-4)GlcNAc(b1-3)Gal(b1-4)GlcNAc(b1-2)Man(a1-6)[Gal(b1-4)GlcNAc(b1-3)Gal(b1-4)GlcNAc(b1-3)Gal(b1-4)GlcNAc(b1-3)Gal(b1-4)GlcNAc(b1-3)Gal(b1-4)GlcNAc(b1-3)Gal(b1-4)GlcNAc(b1-2)Man(a1-3)]Man(b1-4)GlcNAc(b1-4)GlcNAc(b-Sp25\":\n",
        "    path = '/content/gdrive/MyDrive/Novel_Glycan_Images/rep_none.jpg'\n",
        "  elif image_name == \"Gal(b1-3)GlcNAc(b1-3)Gal(b1-4)GlcNAc(b1-3)Gal(b1-4)GlcNAc(b1-6)[Gal(b1-3)GlcNAc(b1-3)Gal(b1-4)GlcNAc(b1-3)Gal(b1-4)GlcNAc(b1-2)]Man(a1-6)[Gal(b1-3)GlcNAc(b1-3)Gal(b1-4)GlcNAc(b1-3)Gal(b1-4)GlcNAc(b1-2)Man(a1-3)]Man(b1-4)GlcNAc(b1-4)[Fuc(a1-6)]GlcNAc(b-Sp24\":\n",
        "    path = '/content/gdrive/MyDrive/Novel_Glycan_Images/rep_574.jpg'\n",
        "  elif image_name == \"Gal(b1-4)GlcNAc(b1-3)Gal(b1-4)GlcNAc(b1-3)Gal(b1-4)GlcNAc(b1-3)Gal(b1-4)GlcNAc(b1-6)[Gal(b1-4)GlcNAc(b1-3)Gal(b1-4)GlcNAc(b1-3)Gal(b1-4)GlcNAc(b1-3)Gal(b1-4)GlcNAc(b1-2)]Man(a1-6)[Gal(b1-4)GlcNAc(b1-3)Gal(b1-4)GlcNAc(b1-3)Gal(b1-4)GlcNAc(b1-3)Gal(b1-4)GlcNAc(b1-2)Man(a1-3)]Man(b1-4)GlcNAc(b1-4)[Fuc(a1-6)]GlcNAc(b-Sp24\":\n",
        "    path = '/content/gdrive/MyDrive/Novel_Glycan_Images/rep_000.jpg'\n",
        "  elif image_name == \"Gal(b1-4)GlcNAc(b1-3)Gal(b1-4)GlcNAc(b1-3)Gal(b1-4)GlcNAc(b1-6)[Gal(b1-4)GlcNAc(b1-3)Gal(b1-4)GlcNAc(b1-3)Gal(b1-4)GlcNAc(b1-2)]Man(a1-6)[Gal(b1-4)GlcNAc(b1-3)Gal(b1-4)GlcNAc(b1-3)Gal(b1-4)GlcNAc(b1-2)Man(a1-3)]Man(b1-4)GlcNAc(b1-4)[Fuc(a1-6)]GlcNAc(b-Sp24\":\n",
        "    path = '/content/gdrive/MyDrive/Novel_Glycan_Images/rep_001.jpg'\n",
        "  elif image_name == \"GlcNAc(b1-3)Gal(b1-4)GlcNAc(b1-3)Gal(b1-4)GlcNAc(b1-3)Gal(b1-4)GlcNAc(b1-6)[GlcNAc(b1-3)Gal(b1-4)GlcNAc(b1-3)Gal(b1-4)GlcNAc(b1-3)Gal(b1-4)GlcNAc(b1-2)]Man(a1-6)[GlcNAc(b1-3)Gal(b1-4)GlcNAc(b1-3)Gal(b1-4)GlcNAc(b1-3)Gal(b1-4)GlcNAc(b1-2)Man(a1-3)]Man(b1-4)GlcNAc(b1-4)[Fuc(a1-6)]GlcNAc(b-Sp24\":\n",
        "    path = '/content/gdrive/MyDrive/Novel_Glycan_Images/rep_002.jpg'\n",
        "  elif image_name == \"GlcNAc(b1-3)Gal(b1-4)GlcNAc(b1-3)Gal(b1-4)GlcNAc(b1-3)Gal(b1-4)GlcNAc(b1-3)Gal(b1-4)GlcNAc(b1-2)Man(a1-6)[GlcNAc(b1-3)Gal(b1-4)GlcNAc(b1-3)Gal(b1-4)GlcNAc(b1-3)Gal(b1-4)GlcNAc(b1-3)Gal(b1-4)GlcNAc(b1-2)Man(a1-3)]Man(b1-4)GlcNAc(b1-4)[Fuc(a1-6)]GlcNAc(b-Sp19\":\n",
        "    path = '/content/gdrive/MyDrive/Novel_Glycan_Images/rep_003.jpg'\n",
        "  elif image_name == \"Gal(b1-4)GlcNAc(b1-3)Gal(b1-4)GlcNAc(b1-3)Gal(b1-4)GlcNAc(b1-3)Gal(b1-4)GlcNAc(b1-3)Gal(b1-4)GlcNAc(b1-2)Man(a1-6)[Gal(b1-4)GlcNAc(b1-3)Gal(b1-4)GlcNAc(b1-3)Gal(b1-4)GlcNAc(b1-3)Gal(b1-4)GlcNAc(b1-3)Gal(b1-4)GlcNAc(b1-2)Man(a1-3)]Man(b1-4)GlcNAc(b1-4)[Fuc(a1-6)]GlcNAc(b-Sp19\":\n",
        "    path = '/content/gdrive/MyDrive/Novel_Glycan_Images/rep_004.jpg'\n",
        "  elif image_name == \"Gal(b1-4)GlcNAc(b1-3)Gal(b1-4)GlcNAc(b1-3)Gal(b1-4)GlcNAc(b1-3)Gal(b1-4)GlcNAc(b1-3)Gal(b1-4)GlcNAc(b1-2)Man(a1-6)[Gal(b1-4)GlcNAc(b1-3)Gal(b1-4)GlcNAc(b1-3)Gal(b1-4)GlcNAc(b1-3)Gal(b1-4)GlcNAc(b1-3)Gal(b1-4)GlcNAc(b1-2)Man(a1-3)]Man(b1-4)GlcNAc(b1-4)GlcNAc(b-Sp25\":\n",
        "    path = '/content/gdrive/MyDrive/Novel_Glycan_Images/rep_005.jpg'\n",
        "  else:\n",
        "    path = '/content/gdrive/MyDrive/Novel_Glycan_Images/' + image_name + '.jpg'\n",
        "\n",
        "  img = img_as_float(io.imread(path))\n",
        "\n",
        "  # find all white cells\n",
        "  white_cell = np.array([1, 1, 1])\n",
        "  img_white = np.abs(img - white_cell).sum(axis=2) == 0 \n",
        "\n",
        "  # crop at the edge !!\n",
        "  coords = np.array(np.nonzero(~img_white))\n",
        "  top_left = np.min(coords, axis=1)\n",
        "  bottom_right = np.max(coords, axis=1)\n",
        "\n",
        "  croped_img = img[top_left[0]:bottom_right[0],\n",
        "              top_left[1]:bottom_right[1]]\n",
        "\n",
        "  img_w = croped_img.shape[1]\n",
        "  img_h = croped_img.shape[0]\n",
        "\n",
        "  return croped_img, img_w, img_h"
      ],
      "execution_count": null,
      "outputs": []
    },
    {
      "cell_type": "code",
      "metadata": {
        "id": "HXnldNlUzXtL"
      },
      "source": [
        "def crop_bg_prediction(image_name):\n",
        "  if image_name == \"Neu5Ac(a2-3)Gal(b1-4)GlcNAc(b1-2)[Neu5Ac(a2-3)Gal(b1-4)GlcNAc(b1-3)Gal(b1-4)GlcNAc(b1-4)]Man(a1-3)[Neu5Ac(a2-3)Gal(b1-4)GlcNAc(b1-3)Gal(b1-4)GlcNAc(b1-2)[Neu5Ac(a2-3)Gal(b1-4)GlcNAc(b1-3)Gal(b1-4)GlcNAc(b1-6)]Man(a1-6)]Man(b1-4)GlcNAc(b1-4)[Fuc(a1-6)]GlcNAc\":\n",
        "    path = '/content/gdrive/MyDrive/Validation_Glycan_Images/rep_3355.jpg'\n",
        "  elif image_name == \"Neu5Ac(a2-3)Gal(b1-4)GlcNAc(b1-3)Gal(b1-4)GlcNAc(b1-2)[Neu5Ac(a2-3)Gal(b1-4)GlcNAc(b1-4)]Man(a1-3)[Neu5Ac(a2-3)Gal(b1-4)GlcNAc(b1-3)Gal(b1-4)GlcNAc(b1-2)[Neu5Ac(a2-3)Gal(b1-4)GlcNAc(b1-3)Gal(b1-4)GlcNAc(b1-6)]Man(a1-6)]Man(b1-4)GlcNAc(b1-4)[Fuc(a1-6)]GlcNAc\":\n",
        "    path = '/content/gdrive/MyDrive/Validation_Glycan_Images/rep_3465.jpg'\n",
        "  else:\n",
        "    path = '/content/gdrive/MyDrive/Validation_Glycan_Images/' + image_name + '.jpg'\n",
        "\n",
        "  img = img_as_float(io.imread(path))\n",
        "\n",
        "  # find all white cells\n",
        "  white_cell = np.array([1, 1, 1])\n",
        "  img_white = np.abs(img - white_cell).sum(axis=2) == 0 \n",
        "\n",
        "  # find and crop at the edge !!\n",
        "  coords = np.array(np.nonzero(~img_white))\n",
        "  top_left = np.min(coords, axis=1)\n",
        "  bottom_right = np.max(coords, axis=1)\n",
        "\n",
        "  croped_img = img[top_left[0]:bottom_right[0],\n",
        "              top_left[1]:bottom_right[1]]\n",
        "\n",
        "  img_w = croped_img.shape[1]\n",
        "  img_h = croped_img.shape[0]\n",
        "\n",
        "  return croped_img, img_w, img_h"
      ],
      "execution_count": null,
      "outputs": []
    },
    {
      "cell_type": "markdown",
      "metadata": {
        "id": "wZ-k-VTZriZ-"
      },
      "source": [
        "## Load All Data"
      ]
    },
    {
      "cell_type": "code",
      "metadata": {
        "id": "RsBn0zDBo--X"
      },
      "source": [
        "actual = pd.read_csv(\"/content/Average_RFU_Values.tsv\", sep = \"\\t\")\n",
        "low_bound = pd.read_csv(\"/content/RFU_CI95_low.tsv\", sep = \"\\t\")\n",
        "high_bound = pd.read_csv(\"/content/RFU_CI95_high.tsv\", sep = \"\\t\")\n",
        "info = pd.read_csv(\"/content/Glycan_Information.tsv\", sep = '\\t')\n",
        "info = info[['objId', 'Short Title']]\n",
        "prediction = pd.read_csv(\"/content/Glycan_Validation_Prediction.csv\")\n",
        "raw_data = pd.read_csv(\"/content/Raw_RFU_Values.tsv\", sep = '\\t')\n",
        "novel_prediction = pd.read_csv(\"/content/Novel_Glycan_Extrapolation.csv\")\n",
        "novel_prediction = pd.DataFrame(novel_prediction).set_index(novel_prediction['Glycan'])\n",
        "del novel_prediction['Glycan']"
      ],
      "execution_count": null,
      "outputs": []
    },
    {
      "cell_type": "code",
      "metadata": {
        "id": "qYpintBtteXZ"
      },
      "source": [
        "print(\"Actual data shape: \", actual.shape)\n",
        "print(\"Prediction data shape: \", prediction.shape) # an extra column with the IUPAC name\n",
        "print(\"Low_bound shape: \", low_bound.shape)\n",
        "print(\"High_bound shape: \", high_bound.shape)\n",
        "print(\"Information shape: \", info.shape)\n",
        "print(\"Raw data shape: \", raw_data.shape)\n",
        "print(\"Novel data shape: \", novel_prediction.shape)"
      ],
      "execution_count": null,
      "outputs": []
    },
    {
      "cell_type": "markdown",
      "metadata": {
        "id": "i21APr3GuGuW"
      },
      "source": [
        "## Plot for Validations"
      ]
    },
    {
      "cell_type": "code",
      "metadata": {
        "id": "cE8mLnTKuGT-"
      },
      "source": [
        "#for sample_i in range(len(actual.columns)):\n",
        "for sample_i in [751]: # for one example\n",
        "  sample_data = pd.DataFrame()\n",
        "  sample_data['actual'] = actual.iloc[:,sample_i].reset_index(drop = True)\n",
        "  sample_data['predicted'] = prediction.iloc[:, (sample_i + 1)].reset_index(drop = True) # add one becasue the first column is the IUPAC name\n",
        "  sample_data['low_bound'] = low_bound.iloc[:, sample_i].reset_index(drop = True)\n",
        "  sample_data['high_bound'] = high_bound.iloc[:, sample_i].reset_index(drop = True)\n",
        "  sample_data['raw'] = raw_data.iloc[:, sample_i].reset_index(drop = True)\n",
        "  sample_data['name'] = prediction['IUPAC']\n",
        "\n",
        "  sample_data = sample_data.sort_values('actual')\n",
        "  sample_data = sample_data.reset_index(drop = True)\n",
        "  diff = sample_data['predicted'] - sample_data['actual']\n",
        "\n",
        "  # get the max for each section\n",
        "  # split into 2 sections: above threshold (pick top 5) & below threshold (top 15)\n",
        "\n",
        "  # get the threshold\n",
        "  # base on the raw data, what would be the threshols\n",
        "  split_thres = sample_data['actual'][z_score(sample_data['raw']) < 3.5].max()\n",
        "  split_3_5 = sample_data['actual'][z_score(sample_data['raw']) < 3.5].max()\n",
        "  split_1_5 = sample_data['actual'][z_score(sample_data['raw']) < 1.5].max()\n",
        "\n",
        "  # then we split the df into two smaller dfs, one is below the threshold and one is above the threshold\n",
        "  split_index = sample_data['actual'][sample_data['actual'] == sample_data['actual'][z_score(sample_data['raw']) < 3.5].max()].index\n",
        "  first_df = sample_data.iloc[0:(list(split_index)[0]), :]\n",
        "  second_df = sample_data.iloc[(list(split_index)[0]):, :]\n",
        "\n",
        "  # note that we sort from largest to smallest, then take the top n values\n",
        "  # first 15 of the list (so select from the below threshold)\n",
        "  max_list = list(first_df['predicted'].sort_values(ascending = False)[0:15].values)\n",
        "  max_index = list(first_df['predicted'].sort_values(ascending = False)[0:15].index)\n",
        "\n",
        "  # second half\n",
        "  max_list.extend(list(second_df['predicted'].sort_values(ascending = False)[0:5].values))\n",
        "  max_index.extend(list(second_df['predicted'].sort_values(ascending = False)[0:5].index))\n",
        "\n",
        "  # Note that sometimes the split_pt is actually at 599, then we would like the glycans to be the top 20 from first half\n",
        "  if (len(max_list) < 20):\n",
        "    if (len(max_list) == 15): # if the split is exactly at 599\n",
        "      max_list = list(first_df['predicted'].sort_values(ascending = False)[0:20].values)\n",
        "      max_index = list(first_df['predicted'].sort_values(ascending = False)[0:20].index)\n",
        "\n",
        "    else:\n",
        "      extra_from_first = 20 - len(max_list) # how many extra we need from the first df\n",
        "      max_list = list(first_df['predicted'].sort_values(ascending = False)[0:(15 + extra_from_first)].values)\n",
        "      max_index = list(first_df['predicted'].sort_values(ascending = False)[0:(15 + extra_from_first)].index)\n",
        "      max_list.extend(list(second_df['predicted'].sort_values(ascending = False).values)) # just includes all\n",
        "      max_index.extend(list(second_df['predicted'].sort_values(ascending = False).index))\n",
        "\n",
        "  # we want to make the label from smallest to largest, so we sort the list first\n",
        "  label_df = pd.DataFrame({\"max_index\": max_index, \"max_value\": max_list, \"max_name\": list(sample_data['name'][max_index])})\n",
        "  label_df = label_df.sort_values(by = ['max_value'], ascending = True)\n",
        "\n",
        "  # For the top and middle parts of the plot (like the glycan part), we want to plot them according to the plot from left to right\n",
        "  # make a copy\n",
        "  label_df_plot = label_df.copy()\n",
        "\n",
        "  # then we sort based on the index\n",
        "  label_df_plot = label_df_plot.sort_values(by = ['max_index'], ascending = True)\n",
        "\n",
        "  ### -- Note that label_df is sorted based on the actual prediction values,\n",
        "  ### -- while label_df_plot is sorted based on the index\n",
        "\n",
        "  # we calculate the ratio and just store the images first\n",
        "  img_show_list = []\n",
        "  img_width_list = []\n",
        "  img_height_list = []\n",
        "\n",
        "  # note that these lists are according to a list that sorted from smallest to largest\n",
        "  for ratio_i in range(0, 20):\n",
        "    img_show_temp, img_width_temp, img_height_temp = crop_bg_validation(label_df_plot.iloc[ratio_i, 2].replace(\"α\", \"a\"). replace(\"β\", \"b\")) # 2 is the column for max_name\n",
        "    img_show_list.append(img_show_temp)\n",
        "    img_width_list.append(img_width_temp)\n",
        "    img_height_list.append(img_height_temp)\n",
        "\n",
        "  total_width = sum(img_width_list)\n",
        "  img_width_list_V2 = []\n",
        "  for value_i in range(20):\n",
        "    img_width_list_V2.append(img_width_list[value_i]/total_width)\n",
        "\n",
        "  img_height_list_V2 = []\n",
        "  for value_i in range(20):\n",
        "    img_height_list_V2.append(img_height_list[value_i]/img_width_list[value_i]*img_width_list_V2[value_i]*18)\n",
        "\n",
        "  # create the plot\n",
        "  fig = plt.figure(figsize = (18, 15), constrained_layout = False)\n",
        "  #plt.rcParams[\"font.family\"] = \"Arial\"\n",
        "  gs = fig.add_gridspec(4, 20, width_ratios = img_width_list_V2, height_ratios = [1.2, 0.05, 0.9, 0.2])\n",
        "\n",
        "  # top part - glycan images\n",
        "  for plotting_i in range(0, 20):\n",
        "    ax1 = fig.add_subplot(gs[0, plotting_i])\n",
        "    ax1.axis('off')\n",
        "    ax1.imshow(img_show_list[plotting_i], clip_on = False, origin = 'upper', extent = (0, img_width_list_V2[plotting_i]*18, 0, img_height_list_V2[plotting_i]))\n",
        "    ax1.set_anchor('SW')\n",
        "\n",
        "  # middle part - glycan number\n",
        "  for plotting_i in range(0, 20):\n",
        "    ax2 = fig.add_subplot(gs[1, plotting_i])\n",
        "    ax2.set_title(str(label_df_plot.index[plotting_i] + 1), y = -0.06, fontweight = 'bold')\n",
        "    ax2.axis('off')\n",
        "\n",
        "  # middle part - actual plotting\n",
        "  ax3 = fig.add_subplot(gs[2:4,:])\n",
        "\n",
        "  r2 = round(r2_score(sample_data[\"actual\"], sample_data[\"predicted\"]), 4)\n",
        "\n",
        "  loss = round(np.mean((sample_data[\"actual\"] - sample_data[\"predicted\"]) ** 2), 4)\n",
        "  title = prediction.columns[sample_i + 1] + ' MSE: ' + str(loss) + ' R-Squared: ' + str(r2)\n",
        "\n",
        "  # set different ylim\n",
        "  if (max(label_df['max_value']) > 5):\n",
        "    ax3.set_ylim([0, 7.5])\n",
        "    ax3.set_yticks(np.arange(1, 7.5, 0.5))\n",
        "\n",
        "  else:\n",
        "    ax3.set_ylim([0, 5.0])\n",
        "    ax3.set_yticks(np.arange(1, 5.0, 0.5))\n",
        "\n",
        "  ax3.set_xlim(0-6, 599+6)\n",
        "\n",
        "  ax3.fill_between(range(len(sample_data['high_bound'].values)),\n",
        "              sample_data['high_bound'].values, sample_data['low_bound'].values, color = 'lightgrey')\n",
        "\n",
        "  ax3.plot(sample_data['actual'].values, label = 'Ground Truth', color = 'black', zorder = 15)\n",
        "\n",
        "  threshold = sample_data['actual'][z_score(sample_data['raw']) < 3.5].max()\n",
        "  ax3.axhline(y = split_3_5, color = 'dimgrey', linestyle = '-', linewidth = 1, zorder = 5, label = 'Positive - Intermediate - Negative Binder')\n",
        "  ax3.axhline(y = split_1_5, color = 'dimgrey', linestyle = '-', linewidth = 1, zorder = 5)\n",
        "\n",
        "  if not threshold is np.nan:\n",
        "      binder = sample_data['predicted'][sample_data['actual'] >= threshold] # base on the actual value, these are binders\n",
        "      nonbinder = sample_data['predicted'][sample_data['actual'] < threshold]\n",
        "\n",
        "      # we use the max_index, because there may exist duplicate max_values\n",
        "      binder_max = binder[binder.index.isin(max_index)] # pts that are within the top 20 list \n",
        "      nonbinder_max = nonbinder[nonbinder.index.isin(max_index)] # pts that are within the top 20 list\n",
        "\n",
        "      binder = binder.drop(binder_max.index)\n",
        "      nonbinder = nonbinder.drop(nonbinder_max.index)\n",
        "\n",
        "      ax3.scatter(binder_max.index, binder_max.values, color = 'red', alpha = 0.8, zorder = 10, label = 'Prediction for Binder and Top 20')\n",
        "      ax3.scatter(binder.index, binder.values, color = 'darkblue', alpha = 0.8, zorder = 10, label = 'Prediction for Binder')\n",
        "      ax3.scatter(nonbinder_max.index, nonbinder_max.values, color = 'hotpink', alpha = 0.8, zorder = 10, label = 'Prediction for Non-Binder and Top 20')\n",
        "      ax3.scatter(nonbinder.index, nonbinder.values, color = 'cornflowerblue', alpha = 0.8, zorder = 10, label = 'Prediction for Non-Binder')\n",
        "\n",
        "  else:\n",
        "      ax3.scatter(sample_data.index, sample_data.values, color = \"grey\", alpha=0.3, label = 'Predictions (No Threshold)')\n",
        "\n",
        "  labels = list(range(20))\n",
        "  for label_i in labels:\n",
        "    x_value = label_df['max_index'][label_i]\n",
        "    y_value = label_df['max_value'][label_i]\n",
        "    ax3.annotate(str(label_i + 1) , (x_value + 0.1, y_value + 0.1), color = 'green')\n",
        "\n",
        "  ax3.set_xlabel('Glycans')\n",
        "  ax3.set_ylabel('Log RFU')\n",
        "  ax3.grid(alpha = 0.2)\n",
        "  ax3.legend(prop={'size': 9})\n",
        "  ax3.set_title(title, y = -0.17, fontweight = 'bold')\n",
        "\n",
        "  # last part - error bars\n",
        "  ax4 = fig.add_subplot(gs[3:,:])\n",
        "  ax4.bar(range(len(sample_data[\"actual\"])), diff.values, color = \"red\", alpha = 0.8)\n",
        "  ax4.set_ylabel('Error')\n",
        "  ax4.set_ylim(-3, 3)\n",
        "  ax4.set_xlim(0-6, 599+6)\n",
        "  ax4.set_yticks([-2, 0, 2])\n",
        "  ax4.grid(alpha = 0.33)\n",
        "\n",
        "  fig.align_ylabels()\n",
        "  fig.subplots_adjust(wspace = 0.1, hspace = 0.05)\n",
        "\n",
        "  save_name = str(prediction.columns[sample_i + 1])\n",
        "#  fig.savefig(\"/content/\" + save_name.replace('/', '_') + '.pdf')\n",
        "#  fig.clf() \n",
        " # plt.close(fig)\n",
        "  plt.show()"
      ],
      "execution_count": null,
      "outputs": []
    },
    {
      "cell_type": "markdown",
      "metadata": {
        "id": "edZVngIq3E8u"
      },
      "source": [
        "## Plot for Novel Data"
      ]
    },
    {
      "cell_type": "markdown",
      "metadata": {
        "id": "UXe5SUyE3HRi"
      },
      "source": [
        "### Ordered by Name (No alternation)"
      ]
    },
    {
      "cell_type": "code",
      "metadata": {
        "id": "a-wq2e2c7kRM"
      },
      "source": [
        "#for sample_i in range(len(actual.columns)):\n",
        "for sample_i in [700]:\n",
        "\n",
        "  # we first get all the data and the sizes from it\n",
        "  # then we simply create the plot and sub in the plot\n",
        "\n",
        "  ## ============================== Validation Part =======================================\n",
        "  sample_data_validation = pd.DataFrame()\n",
        "  sample_data_validation['actual'] = actual.iloc[:,sample_i].reset_index(drop = True)\n",
        "  sample_data_validation['predicted'] = prediction.iloc[:, (sample_i + 1)].reset_index(drop = True) # add one becasue the first column is the IUPAC name\n",
        "  sample_data_validation['low_bound'] = low_bound.iloc[:, sample_i].reset_index(drop = True)\n",
        "  sample_data_validation['high_bound'] = high_bound.iloc[:, sample_i].reset_index(drop = True)\n",
        "  sample_data_validation['raw'] = raw_data.iloc[:, sample_i].reset_index(drop = True)\n",
        "  sample_data_validation['name'] = prediction['IUPAC']\n",
        "\n",
        "  sample_data_validation = sample_data_validation.sort_values('actual')\n",
        "  sample_data_validation = sample_data_validation.reset_index(drop = True)\n",
        "\n",
        "  diff_validation = sample_data_validation['predicted'] - sample_data_validation['actual']\n",
        "\n",
        "  # get the max for each section\n",
        "  # split into 2 sections: above threshold (pick top 5) & below threshold (top 15)\n",
        "\n",
        "  # get the threshold\n",
        "  # base on the raw data, what would be the thresholds\n",
        "  split_thres_validation = sample_data_validation['actual'][z_score(sample_data_validation['raw']) < 3.5].max()\n",
        "  split_3_5_validation = sample_data_validation['actual'][z_score(sample_data_validation['raw']) < 3.5].max()\n",
        "  split_1_5_validation = sample_data_validation['actual'][z_score(sample_data_validation['raw']) < 1.5].max()\n",
        "\n",
        "  # note that we sort from largest to smallest, then take the top n values\n",
        "  # first 20 of the list\n",
        "  max_list_validation = list(sample_data_validation['predicted'].sort_values(ascending = False)[0:20].values)\n",
        "  max_index_validation = list(sample_data_validation['predicted'].sort_values(ascending = False)[0:20].index)\n",
        "\n",
        "  # mean-while we find the maximum ground truth here for later plotting\n",
        "  max_ground_truth = max(sample_data_validation['actual'])\n",
        "\n",
        "  # we want to make the label from smallest to largest, so we sort the list first\n",
        "  label_df_validation = pd.DataFrame({\"max_index\": max_index_validation, \"max_value\": max_list_validation, \"max_name\": list(sample_data_validation['name'][max_index_validation])})\n",
        "  label_df_validation = label_df_validation.sort_values(by = ['max_value'], ascending = True)\n",
        "\n",
        "  # For the top and middle parts of the plot (like the glycan part), we want to plot them according to the plot from left to right\n",
        "  # make a copy\n",
        "  label_df_plot_validation = label_df_validation.copy()\n",
        "\n",
        "  # then we sort based on the index\n",
        "  label_df_plot_validation = label_df_plot_validation.sort_values(by = ['max_index'], ascending = True)\n",
        "\n",
        "  ### -- Note that label_df is sorted based on the actual prediction values,\n",
        "  ### -- while label_df_plot is sorted based on the index\n",
        "\n",
        "  # we calculate the ratio and just store the images first\n",
        "  img_show_list_validation = []\n",
        "  img_width_list_validation = []\n",
        "  img_height_list_validation = []\n",
        "\n",
        "  # note that these lists are according to a list that sorted from smallest to largest\n",
        "  for ratio_i in range(0, 20):\n",
        "    img_show_temp_validation, img_width_temp_validation, img_height_temp_validation = crop_bg_validation(label_df_plot_validation.iloc[ratio_i, 2].replace(\"α\", \"a\"). replace(\"β\", \"b\")) # 2 is the column for max_name\n",
        "    img_show_list_validation.append(img_show_temp_validation)\n",
        "    img_width_list_validation.append(img_width_temp_validation)\n",
        "    img_height_list_validation.append(img_height_temp_validation)\n",
        "\n",
        "  total_width_validation = sum(img_width_list_validation)\n",
        "\n",
        "  img_width_list_V2_validation = []\n",
        "  for value_i in range(20):\n",
        "    img_width_list_V2_validation.append(img_width_list_validation[value_i]/total_width_validation)\n",
        "\n",
        "  img_height_list_V2_validation = []\n",
        "  for value_i in range(20):\n",
        "    img_height_list_V2_validation.append(img_height_list_validation[value_i]/img_width_list_validation[value_i]*img_width_list_V2_validation[value_i]*18)\n",
        "\n",
        "  need_change_height = [index for index, value in enumerate(img_height_list_V2_validation) if value >= 6]\n",
        "  for index_value in need_change_height:\n",
        "    img_width_list_V2_validation[index_value] = 6 * img_width_list_V2_validation[index_value] / img_height_list_V2_validation[index_value]\n",
        "    img_height_list_V2_validation[index_value] = 6\n",
        "\n",
        "  # ============================== Validation Data Finish here =================================\n",
        "\n",
        "  # =================================== Prediction Part =======================================\n",
        "\n",
        "  # Here we want to add the plot on the left\n",
        "  sample_name_prediction = novel_prediction.columns[sample_i]\n",
        "  sample_data_prediction = novel_prediction[sample_name_prediction].copy()\n",
        "  sample_data_prediction = sample_data_prediction.reset_index(drop = True)\n",
        "\n",
        "  # get the max for each section\n",
        "  max_list_prediction = []\n",
        "  max_index_prediction = []\n",
        "  for g, df in sample_data_prediction.groupby(np.arange(len(sample_data_prediction)) // 1040): # so each group contains 208 elements\n",
        "      max_list_prediction.append(df.sort_values(ascending = False)[0:5])\n",
        "      max_index_prediction.append(df.sort_values(ascending = False)[0:5].index)\n",
        "\n",
        "  max_list_prediction = [list_item for list_sublist in max_list_prediction for list_item in list_sublist]\n",
        "  max_index_prediction = [index_max for index_sublist in max_index_prediction for index_max in index_sublist]\n",
        "\n",
        "  max_name_prediction = novel_prediction.index[max_index_prediction]\n",
        "\n",
        "  # select predictions that are above the maximum ground truth\n",
        "  above_max_gt_index = [index for index, value in enumerate(max_list_prediction) if value >= max_ground_truth]\n",
        "  above_max_gt_value = [value for index, value in enumerate(max_list_prediction) if value >= max_ground_truth]\n",
        "\n",
        "  # get the actual index\n",
        "  above_max_gt_index_V2 = []\n",
        "  for index_value in above_max_gt_index:\n",
        "    above_max_gt_index_V2.append(max_index_prediction[index_value])\n",
        "\n",
        "  # we calculate the ratio and just store the images first\n",
        "  img_show_list_prediction = []\n",
        "  img_width_list_prediction = []\n",
        "  img_height_list_prediction = []\n",
        "\n",
        "  for ratio_i in range(0,len(max_list_prediction)):\n",
        "    img_show_temp_prediction, img_width_temp_prediction, img_height_temp_prediction = crop_bg_prediction(max_name_prediction[ratio_i])\n",
        "    img_show_list_prediction.append(img_show_temp_prediction)\n",
        "    img_width_list_prediction.append(img_width_temp_prediction)\n",
        "    img_height_list_prediction.append(img_height_temp_prediction)\n",
        "\n",
        "  total_width_prediction = sum(img_width_list_prediction)\n",
        "\n",
        "  img_width_list_V2_prediction = []\n",
        "  for value_i in range(len(img_width_list_prediction)):\n",
        "    img_width_list_V2_prediction.append(img_width_list_prediction[value_i]/total_width_prediction)\n",
        "\n",
        "  img_height_list_V2_prediction = []\n",
        "  for value_i in range(len(img_width_list_prediction)):\n",
        "    img_height_list_V2_prediction.append(img_height_list_prediction[value_i]/img_width_list_prediction[value_i]*img_width_list_V2_prediction[value_i]*26)\n",
        "\n",
        "  need_change_height = [index for index, value in enumerate(img_height_list_V2_prediction) if value >= 6]\n",
        "  for index_value in need_change_height:\n",
        "    img_width_list_V2_prediction[index_value] = 6 * img_width_list_V2_prediction[index_value] / img_height_list_V2_prediction[index_value]\n",
        "    img_height_list_V2_prediction[index_value] = 6\n",
        "\n",
        "  # ============================== Prediction Data Finish here =================================\n",
        "\n",
        "  # start plotting  \n",
        "  combined_ratio_list_width = img_width_list_V2_validation + [0.01] + img_width_list_V2_prediction\n",
        "  combined_ratio_list_height = img_height_list_V2_validation + img_height_list_V2_prediction\n",
        "  # create the plot\n",
        "  fig = plt.figure(figsize = (18, 15), constrained_layout = False)\n",
        "  gs = fig.add_gridspec(3, 41, width_ratios = combined_ratio_list_width, height_ratios = [1.2, 0.05, 1])\n",
        "\n",
        "  # add a line to separate the glycans\n",
        "# line = plt.Line2D([0.5127*sum(img_width_list_V2_validation), 0.5127*sum(img_width_list_V2_validation)], [0.45 , 1], transform = fig.transFigure, color = \"black\")\n",
        "# fig.add_artist(line)\n",
        "\n",
        "  # --------------------------------- Plot for Validation ------------------------------\n",
        "  # top part - glycan images\n",
        "  for plotting_i in range(0, 20):\n",
        "    ax1 = fig.add_subplot(gs[0:1, plotting_i])\n",
        "    ax1.axis('off')\n",
        "    ax1.imshow(img_show_list_validation[plotting_i], clip_on = False, origin = 'upper', extent = (0, img_width_list_V2_validation[plotting_i]*18, 0, img_height_list_V2_validation[plotting_i]))\n",
        "    ax1.set_anchor('SW')\n",
        "\n",
        "  # middle part - glycan number\n",
        "  for plotting_i in range(0, 20):\n",
        "    ax2 = fig.add_subplot(gs[1, plotting_i])\n",
        "    ax2.set_title(str(label_df_plot_validation.index[plotting_i] + 1), y = -0.06, size = \"medium\", fontweight = 'bold')\n",
        "    ax2.axis('off')\n",
        "\n",
        "  # middle part - actual plotting\n",
        "  ax3 = fig.add_subplot(gs[2:4,0:20])\n",
        "\n",
        "  r2 = round(r2_score(sample_data_validation[\"actual\"], sample_data_validation[\"predicted\"]), 4)\n",
        "\n",
        "  loss = round(np.mean((sample_data_validation[\"actual\"] - sample_data_validation[\"predicted\"]) ** 2), 4)\n",
        "  title = prediction.columns[sample_i + 1] + ' MSE: ' + str(loss) + ' R-Squared: ' + str(r2) # original dataframe column name\n",
        "\n",
        "  # set different ylim\n",
        "  if (max(max_list_prediction) > 5.1):\n",
        "    ax3.set_ylim([0, 7.5])\n",
        "    ax3.set_yticks(np.arange(0, 7.5, 0.5))\n",
        "  else:\n",
        "    ax3.set_ylim([0, 5.5])\n",
        "    ax3.set_yticks(np.arange(0, 5.5, 0.5))\n",
        "\n",
        "  ax3.set_xlim(0-6, 599+6)\n",
        "\n",
        "  ax3.fill_between(range(len(sample_data_validation['high_bound'].values)),\n",
        "              sample_data_validation['high_bound'].values, sample_data_validation['low_bound'].values, color = 'lightgrey')\n",
        "\n",
        "  ax3.plot(sample_data_validation['actual'].values, label = 'Ground Truth', color = 'black', zorder = 15)\n",
        "\n",
        "  threshold = sample_data_validation['actual'][z_score(sample_data_validation['raw']) < 3.5].max()\n",
        "  ax3.axhline(y = split_3_5_validation, color = 'dimgrey', linestyle = '-', linewidth = 1, zorder = 5, label = 'Positive - Intermediate - Negative Binder')\n",
        "  ax3.axhline(y = split_1_5_validation, color = 'dimgrey', linestyle = '-', linewidth = 1, zorder = 5)\n",
        "  ax3.axhline(y = max_ground_truth, color = 'dimgrey', linestyle = '-', linewidth = 1, zorder = 5)\n",
        "  \n",
        "  if not threshold is np.nan:\n",
        "      binder = sample_data_validation['predicted'][sample_data_validation['actual'] >= threshold] # base on the actual value, these are binders\n",
        "      nonbinder = sample_data_validation['predicted'][sample_data_validation['actual'] < threshold]\n",
        "\n",
        "      # we use the max_index, because there may exist duplicate max_values\n",
        "      binder_max = binder[binder.index.isin(max_index_validation)] # pts that are within the top 20 list \n",
        "      nonbinder_max = nonbinder[nonbinder.index.isin(max_index_validation)] # pts that are within the top 20 list\n",
        "\n",
        "      binder = binder.drop(binder_max.index)\n",
        "      nonbinder = nonbinder.drop(nonbinder_max.index)\n",
        "\n",
        "      ax3.scatter(binder_max.index, binder_max.values, color = 'red', alpha = 0.8, zorder = 10, label = 'Prediction for Binder and Top 20')\n",
        "      ax3.scatter(binder.index, binder.values, color = 'darkblue', alpha = 0.8, zorder = 10, label = 'Prediction for Binder')\n",
        "      ax3.scatter(nonbinder_max.index, nonbinder_max.values, color = 'hotpink', alpha = 0.8, zorder = 10, label = 'Prediction for Non-Binder and Top 20')\n",
        "      ax3.scatter(nonbinder.index, nonbinder.values, color = 'cornflowerblue', alpha = 0.8, zorder = 10, label = 'Prediction for Non-Binder')\n",
        "\n",
        "  else:\n",
        "      ax3.scatter(sample_data_validation.index, sample_data_validation.values, color = \"grey\", alpha=0.3, label = 'Predictions (No Threshold)')\n",
        "\n",
        "  labels = list(range(20))\n",
        "  for label_i in labels:\n",
        "    x_value = label_df_validation['max_index'][label_i]\n",
        "    y_value = label_df_validation['max_value'][label_i]\n",
        "    ax3.annotate(str(label_i + 1) , (x_value + 0.1, y_value + 0.1), color = 'green')\n",
        "\n",
        "  ax3.set_xlabel('Glycans')\n",
        "  ax3.set_ylabel('Log RFU')\n",
        "  ax3.grid(alpha = 0.2)\n",
        "  ax3.legend(prop={'size': 9})\n",
        "  ax3.set_title(title, y = -0.20, fontweight = 'bold', fontsize = 11)\n",
        "\n",
        "  fig.align_ylabels()\n",
        "  fig.subplots_adjust(wspace = 0.1, hspace = 0.05)\n",
        "\n",
        "  # ------------------------------------------------------\n",
        "  # add a line to separate the glycans\n",
        "  ax = fig.add_subplot(gs[1:2, 20])\n",
        "  ax.axvline(0, color = 'black', linestyle = \"-\", linewidth = 2)\n",
        "  ax.axis('off')\n",
        "\n",
        "  # ----------------------------- Plot for Prediction ------------------------------\n",
        "\n",
        "  for plotting_i in range(0, len(max_list_prediction)):\n",
        "    ax = fig.add_subplot(gs[:1, (plotting_i + 21)])\n",
        "    ax.axis('off')\n",
        "    ax.imshow(img_show_list_prediction[plotting_i], clip_on = False, origin = 'upper', extent = (0, img_width_list_V2_prediction[plotting_i]*26, 0, img_height_list_V2_prediction[plotting_i]))\n",
        "    ax.set_anchor('SW')\n",
        "\n",
        "  for plotting_i in range(0, len(max_list_prediction)):\n",
        "    ax = fig.add_subplot(gs[1, (plotting_i + 21)])\n",
        "    ax.set_title(str(plotting_i+1), y = -0.06, size = \"medium\", fontweight = 'bold')\n",
        "    ax.axis('off')\n",
        "\n",
        "  ax = fig.add_subplot(gs[2:,20:])\n",
        "\n",
        "  # set different ylim\n",
        "  if (max(max_list_prediction) > 5.1):\n",
        "    ax.set_ylim([0, 7.5])\n",
        "    ax.set_yticks(np.arange(0, 7.5, 0.5))\n",
        "  else:\n",
        "    ax.set_ylim([0, 5.5])\n",
        "    ax.set_yticks(np.arange(0, 5.5, 0.5))\n",
        "\n",
        "\n",
        "  if not threshold is np.nan:\n",
        "      binder = sample_data_prediction[sample_data_prediction > threshold]\n",
        "      nonbinder = sample_data_prediction[sample_data_prediction < threshold]\n",
        "      binder_max = binder[binder.isin(max_list_prediction)]\n",
        "      nonbinder_max = nonbinder[nonbinder.isin(max_list_prediction)]\n",
        "      binder = binder.drop(binder[binder.isin(max_list_prediction)].index)\n",
        "      nonbinder = nonbinder.drop(nonbinder[nonbinder.isin(max_list_prediction)].index)\n",
        "\n",
        "      ax.scatter(binder_max.index, binder_max.values, color = 'red', alpha = 0.8)\n",
        "      ax.scatter(binder.index, binder.values, color = 'darkblue', alpha = 0.8)\n",
        "      ax.scatter(nonbinder_max.index, nonbinder_max.values, color = 'hotpink', alpha = 0.3)\n",
        "      ax.scatter(nonbinder.index, nonbinder.values, color = 'cornflowerblue', alpha = 0.3)\n",
        "\n",
        "      # overlap for simplity for the ones above the max_ground_truth\n",
        "      ax.scatter(above_max_gt_index_V2, above_max_gt_value, color = 'purple', alpha = 0.8)\n",
        "\n",
        "  else:\n",
        "      ax.scatter(sample_data.index, sample_data.values, color = color, alpha = 0.3, label='Predictions (No Threshold)')\n",
        "\n",
        "  ax.axhline(y = split_3_5_validation, color = 'dimgrey', linestyle = '-', linewidth = 1, zorder = 5)\n",
        "  ax.axhline(y = split_1_5_validation, color = 'dimgrey', linestyle = '-', linewidth = 1, zorder = 5)\n",
        "  ax.axhline(y = max_ground_truth, color = 'dimgrey', linestyle = '-', linewidth = 1, zorder = 5)\n",
        "\n",
        "  labels = list(range(20))\n",
        "\n",
        "  for label_i in labels:\n",
        "    x_value = max_index_prediction[label_i]\n",
        "    y_value = max_list_prediction[label_i]\n",
        "    ax.annotate(str(label_i + 1) , (x_value + 0.1, y_value + 0.1), color = 'green')\n",
        "\n",
        "  ax.set_xlabel('Novel Glycans')\n",
        "  ax.yaxis.tick_right()\n",
        "  #ax.set_ylabel('Log RFU')\n",
        "  ax.grid(alpha = 0.2)\n",
        "  fig.subplots_adjust(wspace = 0.1, hspace = 0.05)\n",
        "\n",
        "  save_name = str(prediction.columns[sample_i + 1]).replace('/', '_')\n",
        "\n",
        "  #fig.savefig('/content/' + (str(save_name) + '.'))\n",
        "  #fig.clf()\n",
        "  #plt.close(fig)\n",
        "  plt.show()"
      ],
      "execution_count": null,
      "outputs": []
    },
    {
      "cell_type": "markdown",
      "metadata": {
        "id": "cImYgxCpAFXh"
      },
      "source": [
        "### Ordered by Cluster"
      ]
    },
    {
      "cell_type": "code",
      "metadata": {
        "id": "P_KEhpZDAZ2f"
      },
      "source": [
        "# import hierarchical clustering libraries\n",
        "import scipy.cluster.hierarchy as sch\n",
        "from sklearn.cluster import AgglomerativeClustering\n",
        "from sklearn.cluster import KMeans\n",
        "from numpy import unique\n",
        "from numpy import where"
      ],
      "execution_count": null,
      "outputs": []
    },
    {
      "cell_type": "code",
      "metadata": {
        "id": "mYdYsNJ_Acgf"
      },
      "source": [
        "# create dendrogram\n",
        "dendrogram = sch.dendrogram(sch.linkage(novel_prediction, method = 'ward'))"
      ],
      "execution_count": null,
      "outputs": []
    },
    {
      "cell_type": "code",
      "metadata": {
        "id": "Z0xAKam5Ae7D"
      },
      "source": [
        "den_order = dendrogram['leaves']"
      ],
      "execution_count": null,
      "outputs": []
    },
    {
      "cell_type": "code",
      "metadata": {
        "id": "NBk4t3DpAlum"
      },
      "source": [
        "novel_prediction_copy = novel_prediction.copy()\n",
        "novel_prediction_copy.reset_index(drop = True)\n",
        "novel_prediction_copy.reset_index(level = 0, inplace=True)\n",
        "novel_prediction_copy = novel_prediction_copy.reindex(den_order)\n",
        "novel_prediction_copy.reset_index(level = 0, inplace=True)"
      ],
      "execution_count": null,
      "outputs": []
    },
    {
      "cell_type": "code",
      "metadata": {
        "id": "RK_LpW89AqxG"
      },
      "source": [
        "#for sample_i in range(len(actual.columns)):\n",
        "for sample_i in [700]:\n",
        "\n",
        "  ## ============================== Validation Part =======================================\n",
        "  sample_data_validation = pd.DataFrame()\n",
        "  sample_data_validation['actual'] = actual.iloc[:,sample_i].reset_index(drop = True)\n",
        "  sample_data_validation['predicted'] = prediction.iloc[:, (sample_i + 1)].reset_index(drop = True) # add one becasue the first column is the IUPAC name\n",
        "  sample_data_validation['low_bound'] = low_bound.iloc[:, sample_i].reset_index(drop = True)\n",
        "  sample_data_validation['high_bound'] = high_bound.iloc[:, sample_i].reset_index(drop = True)\n",
        "  sample_data_validation['raw'] = raw_data.iloc[:, sample_i].reset_index(drop = True)\n",
        "  sample_data_validation['name'] = prediction['IUPAC']\n",
        "\n",
        "  sample_data_validation = sample_data_validation.sort_values('actual')\n",
        "  sample_data_validation = sample_data_validation.reset_index(drop = True)\n",
        "\n",
        "  diff_validation = sample_data_validation['predicted'] - sample_data_validation['actual']\n",
        "\n",
        "  # get the max for each section\n",
        "  # split into 2 sections: above threshold (pick top 5) & below threshold (top 15)\n",
        "\n",
        "  # get the threshold\n",
        "  # base on the raw data, what would be the thresholds\n",
        "  split_thres_validation = sample_data_validation['actual'][z_score(sample_data_validation['raw']) < 3.5].max()\n",
        "  split_3_5_validation = sample_data_validation['actual'][z_score(sample_data_validation['raw']) < 3.5].max()\n",
        "  split_1_5_validation = sample_data_validation['actual'][z_score(sample_data_validation['raw']) < 1.5].max()\n",
        "\n",
        "  # note that we sort from largest to smallest, then take the top n values\n",
        "  # first 20 of the list\n",
        "  max_list_validation = list(sample_data_validation['predicted'].sort_values(ascending = False)[0:20].values)\n",
        "  max_index_validation = list(sample_data_validation['predicted'].sort_values(ascending = False)[0:20].index)\n",
        "\n",
        "  # mean-while we find the maximum ground truth here for later plotting\n",
        "  max_ground_truth = max(sample_data_validation['actual'])\n",
        "\n",
        "  # we want to make the label from smallest to largest, so we sort the list first\n",
        "  label_df_validation = pd.DataFrame({\"max_index\": max_index_validation, \"max_value\": max_list_validation, \"max_name\": list(sample_data_validation['name'][max_index_validation])})\n",
        "  label_df_validation = label_df_validation.sort_values(by = ['max_value'], ascending = True)\n",
        "\n",
        "  # For the top and middle parts of the plot (like the glycan part), we want to plot them according to the plot from left to right\n",
        "  # make a copy\n",
        "  label_df_plot_validation = label_df_validation.copy()\n",
        "\n",
        "  # then we sort based on the index\n",
        "  label_df_plot_validation = label_df_plot_validation.sort_values(by = ['max_index'], ascending = True)\n",
        "\n",
        "  ### -- Note that label_df is sorted based on the actual prediction values,\n",
        "  ### -- while label_df_plot is sorted based on the index\n",
        "\n",
        "  # we calculate the ratio and just store the images first\n",
        "  img_show_list_validation = []\n",
        "  img_width_list_validation = []\n",
        "  img_height_list_validation = []\n",
        "\n",
        "  # note that these lists are according to a list that sorted from smallest to largest\n",
        "  for ratio_i in range(0, 20):\n",
        "    img_show_temp_validation, img_width_temp_validation, img_height_temp_validation = crop_bg_validation(label_df_plot_validation.iloc[ratio_i, 2].replace(\"α\", \"a\"). replace(\"β\", \"b\")) # 2 is the column for max_name\n",
        "    img_show_list_validation.append(img_show_temp_validation)\n",
        "    img_width_list_validation.append(img_width_temp_validation)\n",
        "    img_height_list_validation.append(img_height_temp_validation)\n",
        "\n",
        "  total_width_validation = sum(img_width_list_validation)\n",
        "\n",
        "  img_width_list_V2_validation = []\n",
        "  for value_i in range(20):\n",
        "    img_width_list_V2_validation.append(img_width_list_validation[value_i]/total_width_validation)\n",
        "\n",
        "  img_height_list_V2_validation = []\n",
        "  for value_i in range(20):\n",
        "    img_height_list_V2_validation.append(img_height_list_validation[value_i]/img_width_list_validation[value_i]*img_width_list_V2_validation[value_i]*18)\n",
        "\n",
        "  need_change_height = [index for index, value in enumerate(img_height_list_V2_validation) if value >= 6.5]\n",
        "  for index_value in need_change_height:\n",
        "    img_width_list_V2_validation[index_value] = 6 * img_width_list_V2_validation[index_value] / img_height_list_V2_validation[index_value]\n",
        "    img_height_list_V2_validation[index_value] = 6\n",
        "\n",
        "  # ============================== Validation Data Finish here =================================\n",
        "\n",
        "  # =================================== Prediction Part =======================================\n",
        "\n",
        "  # Here we want to add the plot on the left\n",
        "  sample_name_prediction = novel_prediction.columns[sample_i]\n",
        "  sample_data_prediction = novel_prediction_copy[sample_name_prediction].copy()\n",
        "  sample_data_prediction = sample_data_prediction.reset_index(drop = True)\n",
        "\n",
        "  # get the max for each section\n",
        "  max_list_prediction = []\n",
        "  max_index_prediction = []\n",
        "  for g, df in sample_data_prediction.groupby(np.arange(len(sample_data_prediction)) // 1040): # so each group contains 208 elements\n",
        "      max_list_prediction.append(df.sort_values(ascending = False)[0:5])\n",
        "      max_index_prediction.append(df.sort_values(ascending = False)[0:5].index)\n",
        "\n",
        "  max_list_prediction = [list_item for list_sublist in max_list_prediction for list_item in list_sublist]\n",
        "  max_index_prediction = [index_max for index_sublist in max_index_prediction for index_max in index_sublist]\n",
        "\n",
        "  max_name_prediction = novel_prediction_copy['Glycan'][max_index_prediction]\n",
        "  max_name_prediction = max_name_prediction.reset_index(drop = True)\n",
        "\n",
        "  # select predictions that are above the maximum ground truth\n",
        "  above_max_gt_index = [index for index, value in enumerate(max_list_prediction) if value >= max_ground_truth]\n",
        "  above_max_gt_value = [value for index, value in enumerate(max_list_prediction) if value >= max_ground_truth]\n",
        "\n",
        "  # get the actual index\n",
        "  above_max_gt_index_V2 = []\n",
        "  for index_value in above_max_gt_index:\n",
        "    above_max_gt_index_V2.append(max_index_prediction[index_value])\n",
        "\n",
        "  # we calculate the ratio and just store the images first\n",
        "  img_show_list_prediction = []\n",
        "  img_width_list_prediction = []\n",
        "  img_height_list_prediction = []\n",
        "\n",
        "  for ratio_i in range(0,len(max_list_prediction)):\n",
        "    img_show_temp_prediction, img_width_temp_prediction, img_height_temp_prediction = crop_bg_prediction(max_name_prediction[ratio_i])\n",
        "    img_show_list_prediction.append(img_show_temp_prediction)\n",
        "    img_width_list_prediction.append(img_width_temp_prediction)\n",
        "    img_height_list_prediction.append(img_height_temp_prediction)\n",
        "\n",
        "  total_width_prediction = sum(img_width_list_prediction)\n",
        "\n",
        "  img_width_list_V2_prediction = []\n",
        "  for value_i in range(len(img_width_list_prediction)):\n",
        "    img_width_list_V2_prediction.append(img_width_list_prediction[value_i]/total_width_prediction)\n",
        "\n",
        "  img_height_list_V2_prediction = []\n",
        "  for value_i in range(len(img_width_list_prediction)):\n",
        "    img_height_list_V2_prediction.append(img_height_list_prediction[value_i]/img_width_list_prediction[value_i]*img_width_list_V2_prediction[value_i]*26)\n",
        "\n",
        "  need_change_height = [index for index, value in enumerate(img_height_list_V2_prediction) if value >= 6]\n",
        "  for index_value in need_change_height:\n",
        "    img_width_list_V2_prediction[index_value] = 6 * img_width_list_V2_prediction[index_value] / img_height_list_V2_prediction[index_value]\n",
        "    img_height_list_V2_prediction[index_value] = 6\n",
        "\n",
        "  # ============================== Prediction Data Finish here =================================\n",
        "\n",
        "  # start plotting  \n",
        "  combined_ratio_list_width = img_width_list_V2_validation + [0.01] + img_width_list_V2_prediction\n",
        "  combined_ratio_list_height = img_height_list_V2_validation + img_height_list_V2_prediction\n",
        "  # create the plot\n",
        "  fig = plt.figure(figsize = (18, 15), constrained_layout = False)\n",
        "  gs = fig.add_gridspec(3, 41, width_ratios = combined_ratio_list_width, height_ratios = [1.2, 0.05, 1])\n",
        "\n",
        "  # --------------------------------- Plot for Validation ------------------------------\n",
        "  # top part - glycan images\n",
        "  for plotting_i in range(0, 20):\n",
        "    ax1 = fig.add_subplot(gs[0, plotting_i])\n",
        "    ax1.axis('off')\n",
        "    ax1.imshow(img_show_list_validation[plotting_i], clip_on = False, origin = 'upper', extent = (0, img_width_list_V2_validation[plotting_i]*18, 0, img_height_list_V2_validation[plotting_i]))\n",
        "    ax1.set_anchor('SW')\n",
        "\n",
        "  # middle part - glycan number\n",
        "  for plotting_i in range(0, 20):\n",
        "    ax2 = fig.add_subplot(gs[1, plotting_i])\n",
        "    ax2.set_title(str(label_df_plot_validation.index[plotting_i] + 1), y = -0.06, size = \"medium\", fontweight = 'bold')\n",
        "    ax2.axis('off')\n",
        "\n",
        "  # middle part - actual plotting\n",
        "  ax3 = fig.add_subplot(gs[2:4,0:20])\n",
        "\n",
        "  r2 = round(r2_score(sample_data_validation[\"actual\"], sample_data_validation[\"predicted\"]), 4)\n",
        "\n",
        "  loss = round(np.mean((sample_data_validation[\"actual\"] - sample_data_validation[\"predicted\"]) ** 2), 4)\n",
        "  title = prediction.columns[sample_i + 1] + ' MSE: ' + str(loss) + ' R-Squared: ' + str(r2) # original dataframe column name\n",
        "\n",
        "  # set different ylim\n",
        "  if (max(max_list_prediction) > 5.1):\n",
        "    ax3.set_ylim([0, 7.5])\n",
        "    ax3.set_yticks(np.arange(0, 7.5, 0.5))\n",
        "  else:\n",
        "    ax3.set_ylim([0, 5.5])\n",
        "    ax3.set_yticks(np.arange(0, 5.5, 0.5))\n",
        "\n",
        "  ax3.set_xlim(0-6, 599+6)\n",
        "\n",
        "  ax3.fill_between(range(len(sample_data_validation['high_bound'].values)),\n",
        "              sample_data_validation['high_bound'].values, sample_data_validation['low_bound'].values, color = 'lightgrey')\n",
        "\n",
        "  ax3.plot(sample_data_validation['actual'].values, label = 'Ground Truth', color = 'black', zorder = 15)\n",
        "\n",
        "  threshold = sample_data_validation['actual'][z_score(sample_data_validation['raw']) < 3.5].max()\n",
        "  ax3.axhline(y = split_3_5_validation, color = 'dimgrey', linestyle = '-', linewidth = 1, zorder = 5, label = 'Positive - Intermediate - Negative Binder')\n",
        "  ax3.axhline(y = split_1_5_validation, color = 'dimgrey', linestyle = '-', linewidth = 1, zorder = 5)\n",
        "  ax3.axhline(y = max_ground_truth, color = 'dimgrey', linestyle = '-', linewidth = 1, zorder = 5)\n",
        "\n",
        "  if not threshold is np.nan:\n",
        "      binder = sample_data_validation['predicted'][sample_data_validation['actual'] >= threshold] # base on the actual value, these are binders\n",
        "      nonbinder = sample_data_validation['predicted'][sample_data_validation['actual'] < threshold]\n",
        "\n",
        "      # we use the max_index, because there may exist duplicate max_values\n",
        "      binder_max = binder[binder.index.isin(max_index_validation)] # pts that are within the top 20 list \n",
        "      nonbinder_max = nonbinder[nonbinder.index.isin(max_index_validation)] # pts that are within the top 20 list\n",
        "\n",
        "      binder = binder.drop(binder_max.index)\n",
        "      nonbinder = nonbinder.drop(nonbinder_max.index)\n",
        "\n",
        "      ax3.scatter(binder_max.index, binder_max.values, color = 'red', alpha = 0.8, zorder = 10, label = 'Prediction for Binder and Top 20')\n",
        "      ax3.scatter(binder.index, binder.values, color = 'darkblue', alpha = 0.8, zorder = 10, label = 'Prediction for Binder')\n",
        "      ax3.scatter(nonbinder_max.index, nonbinder_max.values, color = 'hotpink', alpha = 0.8, zorder = 10, label = 'Prediction for Non-Binder and Top 20')\n",
        "      ax3.scatter(nonbinder.index, nonbinder.values, color = 'cornflowerblue', alpha = 0.8, zorder = 10, label = 'Prediction for Non-Binder')\n",
        "\n",
        "  else:\n",
        "      ax3.scatter(sample_data_validation.index, sample_data_validation.values, color = \"grey\", alpha=0.3, label = 'Predictions (No Threshold)')\n",
        "\n",
        "  labels = list(range(20))\n",
        "  for label_i in labels:\n",
        "    x_value = label_df_validation['max_index'][label_i]\n",
        "    y_value = label_df_validation['max_value'][label_i]\n",
        "    ax3.annotate(str(label_i + 1) , (x_value + 0.1, y_value + 0.1), color = 'green')\n",
        "\n",
        "  ax3.set_xlabel('Glycans')\n",
        "  ax3.set_ylabel('Log RFU')\n",
        "  ax3.grid(alpha = 0.2)\n",
        "  ax3.legend(prop={'size': 9})\n",
        "  ax3.set_title(title, y = -0.17, fontweight = 'bold')\n",
        "\n",
        "  fig.align_ylabels()\n",
        "  fig.subplots_adjust(wspace = 0.1, hspace = 0.05)\n",
        "\n",
        "  # ------------------------------------------------------\n",
        "  # add a line to separate the glycans\n",
        "  ax = fig.add_subplot(gs[1:2, 20])\n",
        "  ax.axvline(0, color = 'black', linestyle = \"-\", linewidth = 2)\n",
        "  ax.axis('off')\n",
        "\n",
        "  # ----------------------------- Plot for Prediction ------------------------------\n",
        "\n",
        "  for plotting_i in range(0, len(max_list_prediction)):\n",
        "    ax = fig.add_subplot(gs[:1, (plotting_i + 21)])\n",
        "    ax.axis('off')\n",
        "    ax.imshow(img_show_list_prediction[plotting_i], clip_on = False, origin = 'upper', extent = (0, img_width_list_V2_prediction[plotting_i]*26, 0, img_height_list_V2_prediction[plotting_i]))\n",
        "    ax.set_anchor('SW')\n",
        "\n",
        "  for plotting_i in range(0, len(max_list_prediction)):\n",
        "    ax = fig.add_subplot(gs[1, (plotting_i + 21)])\n",
        "    ax.set_title(str(plotting_i+1), y = -0.06, size = \"medium\", fontweight = 'bold')\n",
        "    ax.axis('off')\n",
        "\n",
        "  ax = fig.add_subplot(gs[2:,20:])\n",
        "\n",
        "  # set different ylim\n",
        "  if (max(max_list_prediction) > 5.1):\n",
        "    ax.set_ylim([0, 7.5])\n",
        "    ax.set_yticks(np.arange(0, 7.5, 0.5))\n",
        "  else:\n",
        "    ax.set_ylim([0, 5.5])\n",
        "    ax.set_yticks(np.arange(0, 5.5, 0.5))\n",
        "\n",
        "  threshold = sample_data_prediction[z_score(sample_data_prediction) < 3.5].max()\n",
        "\n",
        "  if not threshold is np.nan:\n",
        "      binder = sample_data_prediction[sample_data_prediction > threshold]\n",
        "      nonbinder = sample_data_prediction[sample_data_prediction < threshold]\n",
        "      binder_max = binder[binder.isin(max_list_prediction)]\n",
        "      nonbinder_max = nonbinder[nonbinder.isin(max_list_prediction)]\n",
        "      binder = binder.drop(binder[binder.isin(max_list_prediction)].index)\n",
        "      nonbinder = nonbinder.drop(nonbinder[nonbinder.isin(max_list_prediction)].index)\n",
        "\n",
        "      ax.scatter(binder_max.index, binder_max.values, color = 'red', alpha = 0.8)\n",
        "      ax.scatter(binder.index, binder.values, color = 'darkblue', alpha = 0.8)\n",
        "      ax.scatter(nonbinder_max.index, nonbinder_max.values, color = 'hotpink', alpha = 0.3)\n",
        "      ax.scatter(nonbinder.index, nonbinder.values, color = 'cornflowerblue', alpha = 0.3)\n",
        "\n",
        "      # overlap for simplity for the ones above the max_ground_truth\n",
        "      ax.scatter(above_max_gt_index_V2, above_max_gt_value, color = 'purple', alpha = 0.8)\n",
        "\n",
        "  else:\n",
        "      ax.scatter(sample_data.index, sample_data.values, color = color, alpha = 0.3, label='Predictions (No Threshold)')\n",
        "\n",
        "  ax.axhline(y = split_3_5_validation, color = 'dimgrey', linestyle = '-', linewidth = 1, zorder = 5)\n",
        "  ax.axhline(y = split_1_5_validation, color = 'dimgrey', linestyle = '-', linewidth = 1, zorder = 5)\n",
        "  ax.axhline(y = max_ground_truth, color = 'dimgrey', linestyle = '-', linewidth = 1, zorder = 5)\n",
        "\n",
        "  labels = list(range(20))\n",
        "\n",
        "  for label_i in labels:\n",
        "    x_value = max_index_prediction[label_i]\n",
        "    y_value = max_list_prediction[label_i]\n",
        "    ax.annotate(str(label_i + 1) , (x_value + 0.1, y_value + 0.1), color = 'green')\n",
        "\n",
        "  ax.set_xlabel('Novel Glycans')\n",
        "  ax.yaxis.tick_right()\n",
        "  #ax.set_ylabel('Log RFU')\n",
        "  ax.grid(alpha = 0.2)\n",
        "  fig.subplots_adjust(wspace = 0.1, hspace = 0.05)\n",
        "\n",
        "  save_name = str(prediction.columns[sample_i + 1]).replace('/', '_')\n",
        "\n",
        "  #fig.savefig('/content/cluster/' + (str(save_name) + '.png'))\n",
        " # fig.clf()\n",
        "  #plt.close(fig)\n",
        "  plt.show()"
      ],
      "execution_count": null,
      "outputs": []
    },
    {
      "cell_type": "markdown",
      "metadata": {
        "id": "ja_Y_eSSDx3S"
      },
      "source": [
        "## Plot for (One glycan - 1257 Proteins)"
      ]
    },
    {
      "cell_type": "code",
      "metadata": {
        "id": "CCTZjXcuEeaB"
      },
      "source": [
        "actual_t = actual.transpose()\n",
        "prediction_t = prediction.transpose()\n",
        "low_bound_t = low_bound.transpose()\n",
        "high_bound_t = high_bound.transpose()"
      ],
      "execution_count": null,
      "outputs": []
    },
    {
      "cell_type": "code",
      "metadata": {
        "id": "wWvEpgKdEo9S"
      },
      "source": [
        "print(\"Transpose Actual data shape: \", actual_t.shape)\n",
        "print(\"Transpose Prediction data shape: \", prediction_t.shape) # an extra column with the IUPAC name\n",
        "print(\"Transpose Low_bound shape: \", low_bound_t.shape)\n",
        "print(\"Transpose High_bound shape: \", high_bound_t.shape)"
      ],
      "execution_count": null,
      "outputs": []
    },
    {
      "cell_type": "code",
      "metadata": {
        "id": "ADN_iH3hHgKT"
      },
      "source": [
        "mse_values = []\n",
        "r2_values = []\n",
        "\n",
        "#sample_i = 1\n",
        "for sample_i in range(len(actual_t.columns)):\n",
        "  sample_data = pd.DataFrame()\n",
        "  sample_data['actual'] = actual_t.iloc[:,sample_i].reset_index(drop = True)\n",
        "  sample_data['predicted'] = prediction_t.iloc[1:, sample_i].reset_index(drop = True) # add one becasue the first column is the IUPAC name\n",
        "  loss = round(np.mean((sample_data['actual'] - sample_data['predicted']) ** 2), 4)\n",
        "  r2 = round(r2_score(sample_data[\"actual\"], sample_data[\"predicted\"]), 4)\n",
        "  mse_values.append(loss)\n",
        "  r2_values.append(r2)\n",
        "\n",
        "transpose_df = pd.DataFrame({\"Name\": prediction_t.iloc[0,:], \"mse\": mse_values, \"r2\": r2_values})\n",
        "transpose_df.head()"
      ],
      "execution_count": null,
      "outputs": []
    },
    {
      "cell_type": "code",
      "metadata": {
        "id": "eGXzhEO8FXVo"
      },
      "source": [
        "#for sample_i in range(len(actual.columns)):\n",
        "for sample_i in [200]:\n",
        "\n",
        "  sample_data = pd.DataFrame()\n",
        "  sample_data['actual'] = actual_t.iloc[:,sample_i].reset_index(drop = True)\n",
        "  sample_data['predicted'] = prediction_t.iloc[1:, sample_i].reset_index(drop = True) # add one becasue the first column is the IUPAC name\n",
        "  sample_data['low_bound'] = low_bound_t.iloc[:, sample_i].reset_index(drop = True)\n",
        "  sample_data['high_bound'] = high_bound_t.iloc[:, sample_i].reset_index(drop = True)\n",
        "  sample_data['name'] = prediction_t.index[1:]\n",
        "\n",
        "  sample_data = sample_data.sort_values('actual')\n",
        "  sample_data = sample_data.reset_index(drop = True)\n",
        "  \n",
        "  mse_index = [index for index, name in enumerate(transpose_df['Name']) if name == prediction['IUPAC'][sample_i]]\n",
        "\n",
        "  # create the plot\n",
        "  fig = plt.figure(figsize = (14, 9), constrained_layout = False)\n",
        "  gs = fig.add_gridspec(20, 5, width_ratios = [0.1, 0.1, 0.5, 0.01, 0.3])\n",
        "\n",
        "  # plot\n",
        "  ax1 = fig.add_subplot(gs[:,:3])\n",
        "\n",
        "  ax1.fill_between(range(len(sample_data['high_bound'].values)),\n",
        "              sample_data['high_bound'].values, sample_data['low_bound'].values, color = 'lightgrey')\n",
        "\n",
        "  ax1.plot(sample_data['actual'].values, label = 'Ground Truth', color = 'black', zorder = 15)\n",
        "\n",
        "  predicted_values = sample_data['predicted']\n",
        "\n",
        "  ax1.scatter(predicted_values.index, predicted_values.values, color = 'cornflowerblue', alpha = 0.8, zorder = 10, label = 'Predictions')\n",
        "\n",
        "  ax1.set_xlabel('Protein')\n",
        "  ax1.set_ylabel('Log RFU')\n",
        "\n",
        "  ax1.grid(alpha = 0.2)\n",
        "  ax1.legend(prop={'size': 9}, loc = 4)\n",
        "\n",
        "  if (120 >= len(prediction['IUPAC'][sample_i]) >= 100):\n",
        "    ax1.set_title(label = \")\".join(prediction['IUPAC'][sample_i].replace(\"α\", \"a\"). replace(\"β\", \"b\").split(\")\")[0:6] \n",
        "                                  + [\" \\n \"] \n",
        "                                  + prediction['IUPAC'][sample_i].replace(\"α\", \"a\"). replace(\"β\", \"b\").split(\")\")[6:]), y = -0.17, fontweight = 'bold')\n",
        "  elif (250 >= len(prediction['IUPAC'][sample_i]) >= 120):\n",
        "    ax1.set_title(label = \")\".join(prediction['IUPAC'][sample_i].replace(\"α\", \"a\"). replace(\"β\", \"b\").split(\")\")[0:8] \n",
        "                                  + [\" \\n \"] \n",
        "                                  + prediction['IUPAC'][sample_i].replace(\"α\", \"a\"). replace(\"β\", \"b\").split(\")\")[8:]), y = -0.17, fontweight = 'bold')\n",
        "  elif (len(prediction['IUPAC'][sample_i]) >= 200):\n",
        "    ax1.set_title(label = \")\".join(prediction['IUPAC'][sample_i].replace(\"α\", \"a\"). replace(\"β\", \"b\").split(\")\")[0:9] \n",
        "                                  + [\" \\n \"] \n",
        "                                  + prediction['IUPAC'][sample_i].replace(\"α\", \"a\"). replace(\"β\", \"b\").split(\")\")[9:18]\n",
        "                                  + [\" \\n \"]\n",
        "                                  + prediction['IUPAC'][sample_i].replace(\"α\", \"a\"). replace(\"β\", \"b\").split(\")\")[18:27]\n",
        "                                  + [\" \\n \"]\n",
        "                                  + prediction['IUPAC'][sample_i].replace(\"α\", \"a\"). replace(\"β\", \"b\").split(\")\")[27:]), y = -0.16, size = 8, fontweight = 'bold')\n",
        "  else:\n",
        "    ax1.set_title(label = prediction['IUPAC'][sample_i].replace(\"α\", \"a\"). replace(\"β\", \"b\"), y = -0.115, fontweight = 'bold')\n",
        "\n",
        "  # now deal with the top 20\n",
        "  sample_data_top = sample_data.copy()\n",
        "  sample_data_top = sample_data_top.sort_values('predicted', ascending = False)\n",
        "  sample_data_top = sample_data_top[0:20]\n",
        "\n",
        "  ax1.scatter(sample_data_top.index, sample_data_top['predicted'], color = 'red', alpha = 0.8, zorder = 10)\n",
        "\n",
        "  # Glycan image\n",
        "  img_show_temp_validation, img_width_temp_validation, img_height_temp_validation = crop_bg_validation(prediction['IUPAC'][sample_i].replace(\"α\", \"a\"). replace(\"β\", \"b\"))\n",
        "  ax2 = fig.add_subplot(gs[1:6, 1])\n",
        "  ax2.axis('off')\n",
        "  ax2.imshow(img_show_temp_validation, clip_on = False, origin = 'upper')\n",
        "  ax2.set_anchor('SW')\n",
        "\n",
        "\n",
        "  # Names\n",
        "\n",
        "  # count\n",
        "  for name_i in range(20):\n",
        "    ax3 = fig.add_subplot(gs[name_i, 3])\n",
        "    ax3.text(0, 0, str(name_i+1), verticalalignment = 'center')\n",
        "    ax3.axis('off')\n",
        "\n",
        "\n",
        "  for name_i in range(20):\n",
        "    ax4 = fig.add_subplot(gs[name_i, 4])\n",
        "    ax4.text(0, 0, sample_data_top['name'].values[name_i], verticalalignment = 'center')\n",
        "    ax4.axis('off')\n",
        "    if (name_i == 19):\n",
        "      ax4.set_title(label = \"MSE = \" + str(transpose_df[\"mse\"][mse_index].values)[1:-1], y = -1.8, fontweight = 'bold')\n",
        "\n",
        "\n",
        "  save_name = \"#\" + str(mse_index[0]) + \" \" + str(prediction['IUPAC'][sample_i].replace(\"α\", \"a\"). replace(\"β\", \"b\"))\n",
        "  if (len(save_name) > 200):\n",
        "    save_name = \"#\" + str(mse_index[0]) + \" \" + \"long_name\"\n",
        "  # fig.savefig('/content/Transpose/' + str(sample_i) + '.png')\n",
        "\n",
        "  #fig.clf() \n",
        "  #plt.close(fig)\n",
        "  plt.show()"
      ],
      "execution_count": null,
      "outputs": []
    }
  ]
}
